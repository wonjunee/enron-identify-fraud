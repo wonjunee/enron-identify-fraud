{
 "cells": [
  {
   "cell_type": "markdown",
   "metadata": {},
   "source": [
    "### Note:\n",
    "\n",
    "This is **the second version** of the final project. Below is the list of modifications I made from the first version.\n",
    "\n",
    "- Created a new feature \"eso_deferred_income\" = deferred_income / exercised_stock_options\n",
    "- Used **SelectKBest** and **feature importances** in **Decision Tree** to filter the low ranking features.\n",
    "- Explained the scaling method I employed for the project more explicitly.\n",
    "- Modified **GridSearchCV** scroing parameter to **f1** and **average_precision**. By default, it tries to maximize accuracy and we can get a high accuracy just by assuming everyone is non-POI.\n",
    "- **GridSearchCV** was run multiple times over cross validation iterations. This was the main reason why the code ran so slow. To fix this, I took the best parameters from **GridSearchCV** and fixed those parameters in the model.\n",
    "- **Linear Regression** and **Lasso Regression** are used when we have a continuous output. However, in this project, the output is discrete values: POI or non-POI. **Logistic Regression** is more appropriate algorithm to use.\n",
    "- Answers to the project questionnaire in the **final thoughts** section.\n"
   ]
  },
  {
   "cell_type": "markdown",
   "metadata": {},
   "source": [
    "# Identifying POI from Enron Dataset\n",
    "### Final Project - Machine Learning Course\n",
    "### Udacity Data Analyst Nanodegree"
   ]
  },
  {
   "cell_type": "markdown",
   "metadata": {},
   "source": [
    "This is the final project for the machine learning course. Enron financial data and email data will be investigated to find the list of person of interest (POI) who were involved in the fraud activities.\n",
    "\n",
    "Below is the order of the investigation process I will employ for this final project.\n",
    "- Univariate analysis\n",
    "    - Process the dataset (taking care of missing values and outliers)\n",
    "    - Select good features that don't have too many zeros or missing values\n",
    "    - Calculate accuracy, precision and recall for each feature I selected using classifiers with default parameters.\n",
    "- Bivariate analysis \n",
    "    - Use features that show the high scores from the univariate analysis\n",
    "    - Calculate accuracy, precision and recall from a pair of features using more classifiers and various parameters.\n",
    "- Multivariate analysis\n",
    "    - Calculate accuracy, precision and recall from features with the best scores from univariate and bivariate analysis.\n",
    "\n",
    "In the end, I will choose the combination of features and classifier that shows the best scores."
   ]
  },
  {
   "cell_type": "markdown",
   "metadata": {},
   "source": [
    "First, necessary Libraries will be loaded."
   ]
  },
  {
   "cell_type": "code",
   "execution_count": 133,
   "metadata": {
    "collapsed": false
   },
   "outputs": [],
   "source": [
    "#!/usr/bin/python\n",
    "\n",
    "import sys\n",
    "import pickle\n",
    "import pprint\n",
    "import matplotlib.pyplot as plt\n",
    "import numpy as np\n",
    "\n",
    "### Setting the path\n",
    "sys.path.append(\"../tools/\")\n",
    "\n",
    "### These are the scripts given in the class\n",
    "from feature_format import featureFormat, targetFeatureSplit\n",
    "from tester import dump_classifier_and_data"
   ]
  },
  {
   "cell_type": "markdown",
   "metadata": {},
   "source": [
    "Load the dictionary containing the dataset."
   ]
  },
  {
   "cell_type": "code",
   "execution_count": 134,
   "metadata": {
    "collapsed": true
   },
   "outputs": [],
   "source": [
    "### Load the dictionary containing the dataset\n",
    "with open(\"final_project_dataset.pkl\", \"r\") as data_file:\n",
    "    data_dict = pickle.load(data_file)"
   ]
  },
  {
   "cell_type": "code",
   "execution_count": 135,
   "metadata": {
    "collapsed": false
   },
   "outputs": [
    {
     "data": {
      "text/plain": [
       "146"
      ]
     },
     "execution_count": 135,
     "metadata": {},
     "output_type": "execute_result"
    }
   ],
   "source": [
    "len(data_dict)"
   ]
  },
  {
   "cell_type": "markdown",
   "metadata": {},
   "source": [
    "There are total 146 number of data in data_dict. I am going to print out the first two of the data from data_dict to see how the dictionary looks like."
   ]
  },
  {
   "cell_type": "code",
   "execution_count": 136,
   "metadata": {
    "collapsed": false
   },
   "outputs": [
    {
     "name": "stdout",
     "output_type": "stream",
     "text": [
      "METTS MARK\n",
      "{'bonus': 600000,\n",
      " 'deferral_payments': 'NaN',\n",
      " 'deferred_income': 'NaN',\n",
      " 'director_fees': 'NaN',\n",
      " 'email_address': 'mark.metts@enron.com',\n",
      " 'exercised_stock_options': 'NaN',\n",
      " 'expenses': 94299,\n",
      " 'from_messages': 29,\n",
      " 'from_poi_to_this_person': 38,\n",
      " 'from_this_person_to_poi': 1,\n",
      " 'loan_advances': 'NaN',\n",
      " 'long_term_incentive': 'NaN',\n",
      " 'other': 1740,\n",
      " 'poi': False,\n",
      " 'restricted_stock': 585062,\n",
      " 'restricted_stock_deferred': 'NaN',\n",
      " 'salary': 365788,\n",
      " 'shared_receipt_with_poi': 702,\n",
      " 'to_messages': 807,\n",
      " 'total_payments': 1061827,\n",
      " 'total_stock_value': 585062}\n",
      "BAXTER JOHN C\n",
      "{'bonus': 1200000,\n",
      " 'deferral_payments': 1295738,\n",
      " 'deferred_income': -1386055,\n",
      " 'director_fees': 'NaN',\n",
      " 'email_address': 'NaN',\n",
      " 'exercised_stock_options': 6680544,\n",
      " 'expenses': 11200,\n",
      " 'from_messages': 'NaN',\n",
      " 'from_poi_to_this_person': 'NaN',\n",
      " 'from_this_person_to_poi': 'NaN',\n",
      " 'loan_advances': 'NaN',\n",
      " 'long_term_incentive': 1586055,\n",
      " 'other': 2660303,\n",
      " 'poi': False,\n",
      " 'restricted_stock': 3942714,\n",
      " 'restricted_stock_deferred': 'NaN',\n",
      " 'salary': 267102,\n",
      " 'shared_receipt_with_poi': 'NaN',\n",
      " 'to_messages': 'NaN',\n",
      " 'total_payments': 5634343,\n",
      " 'total_stock_value': 10623258}\n"
     ]
    }
   ],
   "source": [
    "stop = 0\n",
    "for k, v in data_dict.iteritems():\n",
    "    print k\n",
    "    pprint.pprint(v)\n",
    "    if stop == 1:\n",
    "        break\n",
    "    stop += 1"
   ]
  },
  {
   "cell_type": "markdown",
   "metadata": {},
   "source": [
    "The keys of data_dict are the names of people and the values are various features. Every feature except poi and email_address are numerical values. It looks like it is either a number of 'NaN' when the data is missing. And poi is a boolean value that I can use to find POI's."
   ]
  },
  {
   "cell_type": "code",
   "execution_count": 137,
   "metadata": {
    "collapsed": false
   },
   "outputs": [
    {
     "name": "stdout",
     "output_type": "stream",
     "text": [
      "The number of features: 21\n"
     ]
    }
   ],
   "source": [
    "### Finding the number of features\n",
    "for k,v in data_dict.iteritems():\n",
    "    print \"The number of features:\", len(v)\n",
    "    features_list = v.keys() # features are saved separately for later use\n",
    "    \n",
    "    ### Save the raw features\n",
    "    total_features_list = v.keys()\n",
    "    break"
   ]
  },
  {
   "cell_type": "markdown",
   "metadata": {},
   "source": [
    "There are total 21 features in the dataset. I will ignore \"email_address\" because they are not numerical values. And I will ingore 'other' as well because I don't know what this is."
   ]
  },
  {
   "cell_type": "code",
   "execution_count": 138,
   "metadata": {
    "collapsed": false
   },
   "outputs": [
    {
     "name": "stdout",
     "output_type": "stream",
     "text": [
      "The type of data: <type 'numpy.ndarray'>\n",
      "The total number of data (145L, 19L)\n"
     ]
    }
   ],
   "source": [
    "### Removing poi and email_address\n",
    "try:\n",
    "    features_list.remove(\"email_address\")\n",
    "    features_list.remove(\"other\")\n",
    "except:\n",
    "    pass\n",
    "try:\n",
    "    total_features_list.remove(\"email_address\")\n",
    "    total_features_list.remove(\"other\")\n",
    "except:\n",
    "    pass\n",
    "\n",
    "### Convert data_dict into numpy array\n",
    "data = featureFormat(data_dict, features_list)\n",
    "print \"The type of data:\", type(data)\n",
    "print \"The total number of data\", data.shape"
   ]
  },
  {
   "cell_type": "markdown",
   "metadata": {},
   "source": [
    "Now the data_dict is converted to numpy array. And it contains 145 rows and 19 columns. \n",
    "featureFormat ignores the \"NaN\" values and creates numpy array that I can use it for the analysis more easily.\n",
    "\n",
    "Using data numpy array I will check the number of poi's and non-poi's."
   ]
  },
  {
   "cell_type": "code",
   "execution_count": 139,
   "metadata": {
    "collapsed": false
   },
   "outputs": [
    {
     "name": "stdout",
     "output_type": "stream",
     "text": [
      "The total number of poi: 18.0\n",
      "The total number of non-poi: 127.0\n"
     ]
    }
   ],
   "source": [
    "### Finding the index of poi\n",
    "poi_ind = features_list.index(\"poi\")\n",
    "\n",
    "### Print out the number of poi and non-poi\n",
    "print \"The total number of poi:\", np.sum(data[:,poi_ind])\n",
    "print \"The total number of non-poi:\", np.size(data[:,poi_ind]) - np.sum(data[:,poi_ind])"
   ]
  },
  {
   "cell_type": "markdown",
   "metadata": {},
   "source": [
    "There are total **18 POI** and **127 non-POI."
   ]
  },
  {
   "cell_type": "code",
   "execution_count": 140,
   "metadata": {
    "collapsed": false
   },
   "outputs": [],
   "source": [
    "### Move poi column to the end\n",
    "### data\n",
    "tmp_data = data\n",
    "tmp_data[:,-1] = data[:,poi_ind]\n",
    "tmp_data[:,poi_ind] = data[:,-1]\n",
    "data = tmp_data\n",
    "\n",
    "### features_list\n",
    "tmp = features_list[-1]\n",
    "features_list[poi_ind] = tmp\n",
    "features_list[-1] = \"poi\"\n",
    "\n",
    "### Reassign poi index\n",
    "poi_ind = features_list.index(\"poi\")"
   ]
  },
  {
   "cell_type": "markdown",
   "metadata": {},
   "source": [
    "I moved poi column to the end to use the data more easily."
   ]
  },
  {
   "cell_type": "markdown",
   "metadata": {},
   "source": [
    "## Plotting\n",
    "\n",
    "From now on, I will start drawing various plots for univariate analysis and bivariate analysis.\n",
    "I will draw histograms for each feature first."
   ]
  },
  {
   "cell_type": "code",
   "execution_count": 141,
   "metadata": {
    "collapsed": false
   },
   "outputs": [
    {
     "data": {
      "image/png": "[encoded data removed]",
      "text/plain": [
       "<matplotlib.figure.Figure at 0xb217780>"
      ]
     },
     "metadata": {},
     "output_type": "display_data"
    }
   ],
   "source": [
    "### Create new features list without poi\n",
    "features_list_new = [ii for ii in features_list if ii != \"poi\"]\n",
    "\n",
    "%matplotlib inline\n",
    "### 20 histograms for features\n",
    "plt.rcParams[\"figure.figsize\"] = (20,20)\n",
    "f, axarr = plt.subplots(6, 3)\n",
    "\n",
    "### the histogram of the data\n",
    "### x: x coordinate values, y: y coordinate values\n",
    "### r: row index, c: column index\n",
    "### title: title of a subplot\n",
    "def subplot_histogram(x, bins, r, c, title):\n",
    "    axarr[r, c].hist(x, bins = bins)\n",
    "    axarr[r, c].set_title(title)\n",
    "    axarr[r, c].set_ylabel(\"count\")\n",
    "\n",
    "for i in range(len(features_list_new)):\n",
    "    subplot_histogram(data[:,i],50,i/3,i%3,features_list_new[i])\n",
    "\n",
    "plt.show()"
   ]
  },
  {
   "cell_type": "markdown",
   "metadata": {},
   "source": [
    "Above diagrams show 19 histograms. I first created new list of features excluding poi because array of poi consists of only true or false so it won't provide an insightful histogram. \n",
    "\n",
    "Looking at these histograms, I can see there are outliers for every feature.\n",
    "\n",
    "I will look into salary more deeply and see if there is any interesting thing going on."
   ]
  },
  {
   "cell_type": "code",
   "execution_count": 142,
   "metadata": {
    "collapsed": false
   },
   "outputs": [
    {
     "data": {
      "image/png": "[encoded data removed]",
      "text/plain": [
       "<matplotlib.figure.Figure at 0xaf65c50>"
      ]
     },
     "metadata": {},
     "output_type": "display_data"
    }
   ],
   "source": [
    "%matplotlib inline\n",
    "### Find indices for salary\n",
    "salary_ind = features_list.index(\"salary\")\n",
    "\n",
    "### Set the size of the plot\n",
    "plt.rcParams[\"figure.figsize\"] = (20,5)\n",
    "\n",
    "### Draw Salary histogram\n",
    "plt.hist(data[:,salary_ind], bins=100)\n",
    "plt.xlabel(\"salary\")\n",
    "plt.ylabel(\"count\")\n",
    "plt.title(\"Salary Histogram\")\n",
    "plt.show()"
   ]
  },
  {
   "cell_type": "markdown",
   "metadata": {},
   "source": [
    "Now I will get rid of the outlier above 2.5e7 and replot the histogram"
   ]
  },
  {
   "cell_type": "code",
   "execution_count": 143,
   "metadata": {
    "collapsed": false
   },
   "outputs": [
    {
     "name": "stdout",
     "output_type": "stream",
     "text": [
      "53408458.0 is the total sum of salaries\n",
      "26704229.0 is removed\n"
     ]
    },
    {
     "data": {
      "image/png": "[encoded data removed]",
      "text/plain": [
       "<matplotlib.figure.Figure at 0xc14e5f8>"
      ]
     },
     "metadata": {},
     "output_type": "display_data"
    }
   ],
   "source": [
    "### Total sum of salaries\n",
    "import numpy as np\n",
    "print np.sum(data[:,salary_ind]), \"is the total sum of salaries\"\n",
    "\n",
    "### Create new array that contains salar values without outliers\n",
    "salary_no_outliers = []\n",
    "for i in data[:,salary_ind]:\n",
    "    if i < 2.5e7:\n",
    "        salary_no_outliers.append(i)\n",
    "    else:\n",
    "        print i, \"is removed\"\n",
    "\n",
    "### Draw Salary histogram\n",
    "plt.hist(salary_no_outliers, bins=100)\n",
    "plt.xlabel(\"salary without outliers\")\n",
    "plt.ylabel(\"count\")\n",
    "plt.title(\"Salary Histogram\")\n",
    "plt.show()"
   ]
  },
  {
   "cell_type": "markdown",
   "metadata": {},
   "source": [
    "The outlier removed is half of the total sum of salary array, which means someone added a total sum of salaries into the data. I believe that in data_dict there is a key that contains the sum of every feature."
   ]
  },
  {
   "cell_type": "code",
   "execution_count": 144,
   "metadata": {
    "collapsed": false
   },
   "outputs": [
    {
     "name": "stdout",
     "output_type": "stream",
     "text": [
      "TOTAL {'salary': 26704229, 'to_messages': 'NaN', 'deferral_payments': 32083396, 'total_payments': 309886585, 'exercised_stock_options': 311764000, 'bonus': 97343619, 'restricted_stock': 130322299, 'shared_receipt_with_poi': 'NaN', 'restricted_stock_deferred': -7576788, 'total_stock_value': 434509511, 'expenses': 5235198, 'loan_advances': 83925000, 'from_messages': 'NaN', 'other': 42667589, 'from_this_person_to_poi': 'NaN', 'poi': False, 'director_fees': 1398517, 'deferred_income': -27992891, 'long_term_incentive': 48521928, 'email_address': 'NaN', 'from_poi_to_this_person': 'NaN'}\n"
     ]
    }
   ],
   "source": [
    "for k,v in data_dict.iteritems():\n",
    "    if v[\"salary\"] == 26704229.0:\n",
    "        print k,v"
   ]
  },
  {
   "cell_type": "markdown",
   "metadata": {},
   "source": [
    "As I expected one of the keys in data_dict is TOTAL. I will create a new dictionary that excludes this key."
   ]
  },
  {
   "cell_type": "code",
   "execution_count": 145,
   "metadata": {
    "collapsed": false
   },
   "outputs": [
    {
     "name": "stdout",
     "output_type": "stream",
     "text": [
      "The length of the new data_dict: 145\n"
     ]
    }
   ],
   "source": [
    "### New data_dict excluding TOTAL key\n",
    "data_dict_new = {}\n",
    "\n",
    "for k, v in data_dict.iteritems():\n",
    "    if k != \"TOTAL\":\n",
    "        data_dict_new[k] = v\n",
    "\n",
    "### Print out the new data_dict length\n",
    "print \"The length of the new data_dict:\", len(data_dict_new)\n",
    "    "
   ]
  },
  {
   "cell_type": "markdown",
   "metadata": {},
   "source": [
    "Now there are 145 data in the data_dict_new. I will graph the histograms again."
   ]
  },
  {
   "cell_type": "code",
   "execution_count": 146,
   "metadata": {
    "collapsed": false
   },
   "outputs": [
    {
     "data": {
      "image/png": "[encoded data removed]",
      "text/plain": [
       "<matplotlib.figure.Figure at 0xa2d0438>"
      ]
     },
     "metadata": {},
     "output_type": "display_data"
    }
   ],
   "source": [
    "### Convert data_dict_new into numpy array\n",
    "data = featureFormat(data_dict_new, features_list)\n",
    "\n",
    "%matplotlib inline\n",
    "### 20 histograms for features\n",
    "plt.rcParams[\"figure.figsize\"] = (20,20)\n",
    "f, axarr = plt.subplots(6, 3)\n",
    "\n",
    "### the histogram of the data\n",
    "### x: x coordinate values, y: y coordinate values\n",
    "### r: row index, c: column index\n",
    "### title: title of a subplot\n",
    "def subplot_histogram(x, bins, r, c, title):\n",
    "    axarr[r, c].hist(x, bins = bins)\n",
    "    axarr[r, c].set_title(title)\n",
    "    axarr[r, c].set_ylabel(\"count\")\n",
    "\n",
    "for i in range(len(features_list_new)):\n",
    "    subplot_histogram(data[:,i],50,i/3,i%3,features_list_new[i])\n",
    "\n",
    "plt.show()"
   ]
  },
  {
   "cell_type": "markdown",
   "metadata": {},
   "source": [
    "The histograms are better than before. Although there are still outliers in histograms, getting rid of them might not be a good idea because those values may be helpful identifying POI's.\n",
    "\n",
    "I suspect that some of these features will have too many zeros because featureFormat function convert NaN to zero in some cases. I will print out the number of zeros for each feature. "
   ]
  },
  {
   "cell_type": "code",
   "execution_count": 147,
   "metadata": {
    "collapsed": false
   },
   "outputs": [
    {
     "name": "stdout",
     "output_type": "stream",
     "text": [
      "salary: 50, 34%\n",
      "to_messages: 58, 40%\n",
      "deferral_payments: 106, 73%\n",
      "total_payments: 20, 13%\n",
      "exercised_stock_options: 43, 29%\n",
      "bonus: 63, 43%\n",
      "restricted_stock: 35, 24%\n",
      "shared_receipt_with_poi: 58, 40%\n",
      "restricted_stock_deferred: 127, 88%\n",
      "total_stock_value: 19, 13%\n",
      "expenses: 50, 34%\n",
      "loan_advances: 141, 97%\n",
      "from_messages: 58, 40%\n",
      "from_this_person_to_poi: 78, 54%\n",
      "from_poi_to_this_person: 70, 48%\n",
      "director_fees: 128, 88%\n",
      "deferred_income: 96, 66%\n",
      "long_term_incentive: 79, 54%\n"
     ]
    }
   ],
   "source": [
    "### defining function that counts zeros\n",
    "def counting_zeros(data, features_list, feature):\n",
    "    total_count = 0\n",
    "    count = 0\n",
    "    feature_data = data[:,features_list.index(feature)]\n",
    "    for i in feature_data:\n",
    "        total_count += 1\n",
    "        if i == 0:\n",
    "            count += 1\n",
    "    print \"{}: {}, {}%\".format(feature,count, int(float(count)*100/float(total_count)))\n",
    "\n",
    "### Printing out the number of zeros for each feature\n",
    "for i in features_list[:-1]:\n",
    "    counting_zeros(data, features_list, i)"
   ]
  },
  {
   "cell_type": "markdown",
   "metadata": {},
   "source": [
    "I will ignore features with more than 60% of zeros from now on.\n",
    "\n",
    "### Features that will be ignored:\n",
    "- deferral_payments\n",
    "- restricted_stock_deferred\n",
    "- loan_advances\n",
    "- director_fees\n",
    "- deferred_income\n",
    "\n",
    "I will recreate data numpy array and features_list array that exclude the features above."
   ]
  },
  {
   "cell_type": "code",
   "execution_count": 148,
   "metadata": {
    "collapsed": false
   },
   "outputs": [
    {
     "name": "stdout",
     "output_type": "stream",
     "text": [
      "(144L, 14L)\n"
     ]
    }
   ],
   "source": [
    "### Save the original features_list before change\n",
    "features_list_original = features_list\n",
    "\n",
    "### list of features with too many zeros\n",
    "too_many_zeros = [\"deferral_payments\", \n",
    "                  \"restricted_stock_deferred\",\n",
    "                  \"loan_advances\",\n",
    "                  \"director_fees\",\n",
    "                  \"deferred_income\"]\n",
    "\n",
    "### remove the above features from features_list\n",
    "for i in too_many_zeros:\n",
    "    if i in features_list:\n",
    "        features_list.remove(i)\n",
    "        \n",
    "### Convert data_dict_new into numpy array\n",
    "data = featureFormat(data_dict_new, features_list)\n",
    "print data.shape"
   ]
  },
  {
   "cell_type": "markdown",
   "metadata": {},
   "source": [
    "Now the number of columns of data is reduced to 14."
   ]
  },
  {
   "cell_type": "markdown",
   "metadata": {},
   "source": [
    "### Checking Scores\n",
    "\n",
    "Now I am going to test each feature using GaussianNB and check the accuracy, precision and recall. Then I will use features with high values for later use.\n",
    "\n",
    "I will employ tester functions from tester."
   ]
  },
  {
   "cell_type": "code",
   "execution_count": 149,
   "metadata": {
    "collapsed": true
   },
   "outputs": [],
   "source": [
    "### Import functions from tester_edited.py\n",
    "from tester_edited import load_classifier_and_data, test_classifier\n",
    "from sklearn.cross_validation import StratifiedShuffleSplit"
   ]
  },
  {
   "cell_type": "markdown",
   "metadata": {},
   "source": [
    "This will be a repetitive process so I will create a function to do this."
   ]
  },
  {
   "cell_type": "code",
   "execution_count": 150,
   "metadata": {
    "collapsed": false
   },
   "outputs": [],
   "source": [
    "### the code is from \"poi_id.py\" from final_project folder.\n",
    "### this function will split the data into test and train\n",
    "### apply classifier and calculate the accuracy, precision and recall\n",
    "def test(features_list, clf, print_result=False, draw_graph=False, rescale=False):\n",
    "    ### Store to my_dataset for easy export below.\n",
    "    my_dataset = data_dict\n",
    "    \n",
    "    ### Extract features and labels from dataset for local testing\n",
    "    data = featureFormat(my_dataset, features_list, sort_keys = True)\n",
    "    labels, features = targetFeatureSplit(data)\n",
    "    \n",
    "#     ### Split train and test by 30 %\n",
    "#     from sklearn.cross_validation import train_test_split\n",
    "#     features_train, features_test, labels_train, labels_test = \\\n",
    "#         train_test_split(features, labels, test_size=0.3, random_state=42)\n",
    "        \n",
    "    ### Dump the data to the local files\n",
    "    dump_classifier_and_data(clf, my_dataset, features_list)\n",
    "    \n",
    "    ### Load the data from the local files\n",
    "    clf, dataset, feature_list = load_classifier_and_data()\n",
    "    \n",
    "    ### Print out the result\n",
    "    scores = test_classifier(\n",
    "        clf, dataset, feature_list, \n",
    "        print_result=print_result, draw_graph=draw_graph, rescale=rescale)\n",
    "    return scores\n",
    "\n",
    "### import GaussianNB\n",
    "from sklearn.naive_bayes import GaussianNB\n",
    "\n",
    "### import Decision Tree\n",
    "from sklearn import tree\n",
    "\n",
    "### This function only test the data using\n",
    "### GaussianNB and Decision Tree\n",
    "def classify_simple(features_list, print_result=False):\n",
    "    print \"Features list:\", features_list[1:]\n",
    "    \n",
    "    ### Set GaussianNB\n",
    "    clf_NB = GaussianNB()\n",
    "\n",
    "    ### Set Decision Tree\n",
    "    clf_tree = tree.DecisionTreeClassifier()\n",
    "    \n",
    "    ### Call test function and print out test\n",
    "    scores_NB = test(features_list,clf_NB, print_result=print_result)\n",
    "    tree_NB = test(features_list,clf_tree, print_result=print_result)\n",
    "    return [ scores_NB, tree_NB ]"
   ]
  },
  {
   "cell_type": "markdown",
   "metadata": {},
   "source": [
    "I created a function that can show the accuracy, precision and recall values from features list input. The test function is mainly from the \"poi-id.py\" file from the final project folder. I creates clf for classifier, features list and dataset so that it can be loaded in test_classifier function in \"tester.py\" file. Note that the validation used in this code is Train/Test split. The purpose is not to get the largest scores but to select features that show the high scores compared to the others. So I don't use other cross validation for now. For the same reason, I don't specify any parameter for classifiers. The parameters will be adjusted at a later section."
   ]
  },
  {
   "cell_type": "code",
   "execution_count": 151,
   "metadata": {
    "collapsed": false
   },
   "outputs": [
    {
     "name": "stdout",
     "output_type": "stream",
     "text": [
      "Features list: ['salary']\n",
      "\n",
      "GaussianNB()\n",
      "\n",
      "\tBest parameters:\n",
      "\tNo GridSearch\n",
      "\n",
      "\tAccuracy: 0.25560\tPrecision: 0.18481\tRecall: 0.79800\tF1: 0.30011\tF2: 0.47968\n",
      "\tTotal predictions: 20000\tTrue positives: 3192\tFalse positives: 14080\tFalse negatives:  808\tTrue negatives: 1920\n",
      "\n",
      "\n",
      "DecisionTreeClassifier(class_weight=None, criterion='gini', max_depth=None,\n",
      "            max_features=None, max_leaf_nodes=None, min_samples_leaf=1,\n",
      "            min_samples_split=2, min_weight_fraction_leaf=0.0,\n",
      "            presort=False, random_state=None, splitter='best')\n",
      "\n",
      "\tBest parameters:\n",
      "\tNo GridSearch\n",
      "\n",
      "\tAccuracy: 0.69210\tPrecision: 0.23619\tRecall: 0.24150\tF1: 0.23881\tF2: 0.24042\n",
      "\tTotal predictions: 20000\tTrue positives:  966\tFalse positives: 3124\tFalse negatives: 3034\tTrue negatives: 12876\n",
      "\n"
     ]
    },
    {
     "data": {
      "text/plain": [
       "[[0.2556, 0.18480778138026865, 0.798, {}],\n",
       " [0.6921, 0.23618581907090463, 0.2415, {}]]"
      ]
     },
     "execution_count": 151,
     "metadata": {},
     "output_type": "execute_result"
    }
   ],
   "source": [
    "### Always put poi at the zeroth index\n",
    "classify_simple([\"poi\", \"salary\"],print_result=True)"
   ]
  },
  {
   "cell_type": "markdown",
   "metadata": {},
   "source": [
    "I ran the function using poi and salary. Fortunately the function works.\n",
    "\n",
    "I will use this function for all the other features."
   ]
  },
  {
   "cell_type": "code",
   "execution_count": 152,
   "metadata": {
    "collapsed": false,
    "scrolled": true
   },
   "outputs": [
    {
     "name": "stdout",
     "output_type": "stream",
     "text": [
      "Features list: ['salary']\n",
      "Features list: ['to_messages']\n",
      "Got a divide by zero when trying out: GaussianNB()\n",
      "Precision or recall may be undefined due to a lack of true positive predicitons.\n",
      "\n",
      "Features list: ['total_payments']\n",
      "Features list: ['exercised_stock_options']\n",
      "Features list: ['bonus']\n",
      "Features list: ['restricted_stock']\n",
      "Features list: ['shared_receipt_with_poi']\n",
      "Got a divide by zero when trying out: GaussianNB()\n",
      "Precision or recall may be undefined due to a lack of true positive predicitons.\n",
      "\n",
      "Features list: ['total_stock_value']\n",
      "Features list: ['expenses']\n",
      "Features list: ['from_messages']\n",
      "Got a divide by zero when trying out: GaussianNB()\n",
      "Precision or recall may be undefined due to a lack of true positive predicitons.\n",
      "\n",
      "Features list: ['from_this_person_to_poi']\n",
      "Got a divide by zero when trying out: GaussianNB()\n",
      "Precision or recall may be undefined due to a lack of true positive predicitons.\n",
      "\n",
      "Features list: ['from_poi_to_this_person']\n",
      "Features list: ['long_term_incentive']\n"
     ]
    }
   ],
   "source": [
    "### Iterate over the features_list\n",
    "scores_list = {}\n",
    "for i in features_list[:-1]:\n",
    "    scores_list[i] = classify_simple([\"poi\", i])"
   ]
  },
  {
   "cell_type": "code",
   "execution_count": 153,
   "metadata": {
    "collapsed": false
   },
   "outputs": [
    {
     "name": "stdout",
     "output_type": "stream",
     "text": [
      "      Accuarcy Precision Recall\n",
      "salary\n",
      "NB     0.2556  0.1848  0.7980\n",
      "tree   0.6921  0.2362  0.2415\n",
      "to_messages\n",
      "NB     ---------None---------\n",
      "tree   0.7371  0.0856  0.1410\n",
      "total_payments\n",
      "NB     0.7631  0.0694  0.0435\n",
      "tree   0.7393  0.0804  0.0665\n",
      "bonus\n",
      "NB     0.3780  0.2223  0.7200\n",
      "tree   0.7623  0.4427  0.2685\n",
      "total_stock_value\n",
      "NB     0.8406  0.3200  0.0320\n",
      "tree   0.7584  0.2300  0.2430\n",
      "shared_receipt_with_poi\n",
      "NB     ---------None---------\n",
      "tree   0.8421  0.3020  0.3210\n",
      "exercised_stock_options\n",
      "NB     0.8994  0.2108  0.0390\n",
      "tree   0.8571  0.2686  0.3320\n",
      "from_messages\n",
      "NB     ---------None---------\n",
      "tree   0.7259  0.0067  0.0100\n",
      "from_this_person_to_poi\n",
      "NB     ---------None---------\n",
      "tree   0.7444  0.0218  0.0180\n",
      "long_term_incentive\n",
      "NB     0.3980  0.1471  0.6700\n",
      "tree   0.6943  0.0250  0.0300\n",
      "expenses\n",
      "NB     0.3068  0.1885  0.7460\n",
      "tree   0.6466  0.1295  0.1340\n",
      "restricted_stock\n",
      "NB     0.7380  0.1013  0.0560\n",
      "tree   0.7297  0.1196  0.0765\n",
      "from_poi_to_this_person\n",
      "NB     0.7365  0.0263  0.0015\n",
      "tree   0.6425  0.1312  0.0765\n"
     ]
    }
   ],
   "source": [
    "### Print out scores of each feature\n",
    "print \"      Accuarcy Precision Recall\"\n",
    "for k,v in scores_list.iteritems():\n",
    "    print k\n",
    "    if v[0] == None:\n",
    "        print \"NB     ---------None---------\"\n",
    "    else:\n",
    "        print \"NB     {0:.4f}  {1:.4f}  {2:.4f}\".format(v[0][0], v[0][1], v[0][2])\n",
    "    print \"tree   {0:.4f}  {1:.4f}  {2:.4f}\".format(v[1][0], v[1][1], v[1][2])"
   ]
  },
  {
   "cell_type": "markdown",
   "metadata": {},
   "source": [
    "Notice that those features where NB score is zero have zeros more than 50%. Initially I thought removing features with zeros more than 60% might be sufficient but apparently I should have set my threshold to be 60% instead of 50%.\n",
    "\n",
    "And I will remove total_payments from my list because this feature has precision and recall values less than 1%."
   ]
  },
  {
   "cell_type": "code",
   "execution_count": 154,
   "metadata": {
    "collapsed": false
   },
   "outputs": [
    {
     "name": "stdout",
     "output_type": "stream",
     "text": [
      "Shape of data: (139L, 9L)\n",
      "['salary',\n",
      " 'exercised_stock_options',\n",
      " 'bonus',\n",
      " 'restricted_stock',\n",
      " 'total_stock_value',\n",
      " 'expenses',\n",
      " 'from_poi_to_this_person',\n",
      " 'long_term_incentive',\n",
      " 'poi']\n"
     ]
    }
   ],
   "source": [
    "### list of features with too many zeros above 50%\n",
    "too_many_zeros = [\"to_messages\",\n",
    "                  \"shared_receipt_with_poi\",\n",
    "                  \"from_messages\",\n",
    "                  \"from_this_person_to_poi\",\n",
    "                  \"total_payments\"]\n",
    "\n",
    "### remove the above features from features_list\n",
    "for i in too_many_zeros:\n",
    "    if i in features_list:\n",
    "        features_list.remove(i)\n",
    "        \n",
    "### Convert data_dict_new into numpy array\n",
    "data = featureFormat(data_dict_new, features_list)\n",
    "print \"Shape of data:\", data.shape\n",
    "pprint.pprint(features_list)"
   ]
  },
  {
   "cell_type": "markdown",
   "metadata": {},
   "source": [
    "The number of columns are reduced to 9 including poi. Let's print the result again only from these features."
   ]
  },
  {
   "cell_type": "code",
   "execution_count": 155,
   "metadata": {
    "collapsed": false
   },
   "outputs": [
    {
     "name": "stdout",
     "output_type": "stream",
     "text": [
      "      Accuarcy Precision Recall\n",
      "salary\n",
      "NB     0.2556  0.1848  0.7980\n",
      "tree   0.6921  0.2362  0.2415\n",
      "bonus\n",
      "NB     0.3780  0.2223  0.7200\n",
      "tree   0.7623  0.4427  0.2685\n",
      "total_stock_value\n",
      "NB     0.8406  0.3200  0.0320\n",
      "tree   0.7584  0.2300  0.2430\n",
      "exercised_stock_options\n",
      "NB     0.8994  0.2108  0.0390\n",
      "tree   0.8571  0.2686  0.3320\n",
      "long_term_incentive\n",
      "NB     0.3980  0.1471  0.6700\n",
      "tree   0.6943  0.0250  0.0300\n",
      "expenses\n",
      "NB     0.3068  0.1885  0.7460\n",
      "tree   0.6466  0.1295  0.1340\n",
      "restricted_stock\n",
      "NB     0.7380  0.1013  0.0560\n",
      "tree   0.7297  0.1196  0.0765\n",
      "from_poi_to_this_person\n",
      "NB     0.7365  0.0263  0.0015\n",
      "tree   0.6425  0.1312  0.0765\n"
     ]
    }
   ],
   "source": [
    "### Print out scores of each feature\n",
    "print \"      Accuarcy Precision Recall\"\n",
    "for k,v in scores_list.iteritems():\n",
    "    if k in features_list:\n",
    "        print k\n",
    "        if v[0] == None:\n",
    "            print \"NB     ---------None---------\"\n",
    "        else:\n",
    "            print \"NB     {0:.4f}  {1:.4f}  {2:.4f}\".format(v[0][0], v[0][1], v[0][2])\n",
    "        print \"tree   {0:.4f}  {1:.4f}  {2:.4f}\".format(v[1][0], v[1][1], v[1][2])"
   ]
  },
  {
   "cell_type": "markdown",
   "metadata": {},
   "source": [
    "From the result above, the features with the best scores are **bonus**, **exercised_stock_options** and **total_stock_value**.\n",
    "I will use these features as my main dependent variables for the bivariate analysis."
   ]
  },
  {
   "cell_type": "markdown",
   "metadata": {},
   "source": [
    "## Selecting features using SelectKBest and Decision Tree Features Importance"
   ]
  },
  {
   "cell_type": "markdown",
   "metadata": {},
   "source": [
    "The above selection is choosing the features with few zeros. However, having many zeros not necessarily means the data is bad. I will find **14** features with the best scores using **SelectKBest**."
   ]
  },
  {
   "cell_type": "code",
   "execution_count": 156,
   "metadata": {
    "collapsed": false
   },
   "outputs": [
    {
     "name": "stdout",
     "output_type": "stream",
     "text": [
      "(144L, 19L)\n",
      "Selected by SelectKBest\n",
      "\tsalary\n",
      "\ttotal_payments\n",
      "\texercised_stock_options\n",
      "\tbonus\n",
      "\trestricted_stock\n",
      "\tshared_receipt_with_poi\n",
      "\ttotal_stock_value\n",
      "\texpenses\n",
      "\tloan_advances\n",
      "\tfrom_this_person_to_poi\n",
      "\tdirector_fees\n",
      "\tdeferred_income\n",
      "\tlong_term_incentive\n",
      "\tfrom_poi_to_this_person\n"
     ]
    }
   ],
   "source": [
    "### Convert data_dict_new into numpy array\n",
    "total_data = featureFormat(data_dict_new, total_features_list)\n",
    "\n",
    "print total_data.shape\n",
    "\n",
    "### Extract features from the data\n",
    "features = total_data\n",
    "features = np.delete(features, total_features_list.index(\"poi\"), 1)\n",
    "\n",
    "### Extract a label from the data\n",
    "label = total_data[:,total_features_list.index(\"poi\")]\n",
    "\n",
    "### Rescale features\n",
    "from sklearn.preprocessing import MinMaxScaler\n",
    "min_max_scaler = MinMaxScaler()\n",
    "features = min_max_scaler.fit_transform(features) \n",
    "\n",
    "### Import SelectKBest\n",
    "from sklearn.feature_selection import SelectKBest\n",
    "from sklearn.feature_selection import f_classif\n",
    "\n",
    "selector = SelectKBest(f_classif, k=14)\n",
    "selector = selector.fit(features,label)\n",
    "\n",
    "features_list_wo_poi = [i for i in total_features_list if i!=\"poi\"] ### features list without poi\n",
    "\n",
    "### Print features chosen by SelectKBest\n",
    "selected_list = [features_list_wo_poi[i] for i in range(len(features_list_wo_poi)) if selector.get_support()[i]]\n",
    "\n",
    "print \"Selected by SelectKBest\"\n",
    "for i in selected_list:\n",
    "    print \"\\t\", i"
   ]
  },
  {
   "cell_type": "markdown",
   "metadata": {},
   "source": [
    "The above 13 features are chosen by SelectKBest. Let's compare the result to the features_list array that I created."
   ]
  },
  {
   "cell_type": "code",
   "execution_count": 157,
   "metadata": {
    "collapsed": false
   },
   "outputs": [
    {
     "name": "stdout",
     "output_type": "stream",
     "text": [
      "Features in both lists\n",
      "\tsalary\n",
      "\texercised_stock_options\n",
      "\tbonus\n",
      "\trestricted_stock\n",
      "\ttotal_stock_value\n",
      "\texpenses\n",
      "\tlong_term_incentive\n",
      "\tfrom_poi_to_this_person\n",
      "\n",
      "Features only in selected_list\n",
      "\ttotal_payments\n",
      "\tshared_receipt_with_poi\n",
      "\tloan_advances\n",
      "\tfrom_this_person_to_poi\n",
      "\tdirector_fees\n",
      "\tdeferred_income\n",
      "\n",
      "Features only in features_list\n"
     ]
    }
   ],
   "source": [
    "### Comparing features_list and selected_list\n",
    "\n",
    "### features in both lists\n",
    "print \"Features in both lists\"\n",
    "for i in selected_list:\n",
    "    if i in features_list:\n",
    "        print \"\\t\", i\n",
    "\n",
    "### features not common\n",
    "only_in_selected = []\n",
    "print \"\\nFeatures only in selected_list\"\n",
    "for i in selected_list:\n",
    "    if i not in features_list:\n",
    "        print \"\\t\", i\n",
    "        only_in_selected.append(i)\n",
    "\n",
    "print \"\\nFeatures only in features_list\"\n",
    "for i in [i for i in features_list if i != \"poi\"]:\n",
    "    if i not in selected_list:\n",
    "        print \"\\t\", i\n",
    "    "
   ]
  },
  {
   "cell_type": "markdown",
   "metadata": {},
   "source": [
    "Interesting thing to note is that although *salary* and *restricted_stock* have few zeros it is not chosen by SelectKBest due to low F-value.\n",
    "\n",
    "The 8 features that I chose by hand are all selected by **SelectKBest** method. These 8 values will be the most important features for the further analysis.\n",
    "\n",
    "I will choose 3 features from features that are only in selected_list."
   ]
  },
  {
   "cell_type": "code",
   "execution_count": 158,
   "metadata": {
    "collapsed": false
   },
   "outputs": [
    {
     "name": "stdout",
     "output_type": "stream",
     "text": [
      "total_payments\n",
      "shared_receipt_with_poi\n",
      "loan_advances\n",
      "from_this_person_to_poi\n",
      "director_fees\n",
      "deferred_income\n",
      "poi\n",
      "(136L, 7L)\n",
      "Selected by SelectKBest\n",
      "\ttotal_payments\n",
      "\tshared_receipt_with_poi\n",
      "\tdeferred_income\n"
     ]
    }
   ],
   "source": [
    "### append poi to only_in_selected\n",
    "only_in_selected.append(\"poi\")\n",
    "\n",
    "for i in only_in_selected:\n",
    "    print i\n",
    "\n",
    "### Convert data_dict_new into numpy array\n",
    "total_data = featureFormat(data_dict_new, only_in_selected)\n",
    "\n",
    "print total_data.shape\n",
    "\n",
    "### Extract features from the data\n",
    "features = total_data\n",
    "features = np.delete(features, only_in_selected.index(\"poi\"), 1)\n",
    "\n",
    "### Extract a label from the data\n",
    "label = total_data[:,only_in_selected.index(\"poi\")]\n",
    "\n",
    "### Rescale features\n",
    "from sklearn.preprocessing import MinMaxScaler\n",
    "min_max_scaler = MinMaxScaler()\n",
    "features = min_max_scaler.fit_transform(features) \n",
    "\n",
    "selector = SelectKBest(f_classif, k=3)\n",
    "selector = selector.fit(features,label)\n",
    "\n",
    "features_list_wo_poi = [i for i in only_in_selected if i!=\"poi\"] ### features list without poi\n",
    "\n",
    "### Print features chosen by SelectKBest\n",
    "selected_list = [features_list_wo_poi[i] for i in range(len(features_list_wo_poi)) if selector.get_support()[i]]\n",
    "\n",
    "print \"Selected by SelectKBest\"\n",
    "for i in selected_list:\n",
    "    print \"\\t\", i"
   ]
  },
  {
   "cell_type": "markdown",
   "metadata": {},
   "source": [
    "Below is the list of features chosen by my method and SelectKBest method.\n",
    "\n",
    "**Features Selected:**\n",
    "\n",
    "\tsalary\n",
    "\texercised_stock_options\n",
    "\tbonus\n",
    "\trestricted_stock\n",
    "\ttotal_stock_value\n",
    "\texpenses\n",
    "\tlong_term_incentive\n",
    "\tfrom_poi_to_this_person\n",
    "\ttotal_payments\n",
    "\tshared_receipt_with_poi\n",
    "\tdeferred_income    \n",
    "    \n",
    "Among these 11 features I will select 6 features using **Decision Tree feature importance** method."
   ]
  },
  {
   "cell_type": "code",
   "execution_count": 159,
   "metadata": {
    "collapsed": false
   },
   "outputs": [
    {
     "name": "stdout",
     "output_type": "stream",
     "text": [
      "(144L, 12L)\n",
      "salary:\n",
      "                 0.0503144654088\n",
      "exercised_stock_options:\n",
      "                 0.0663862343108\n",
      "bonus:\n",
      "                 0.0905660377358\n",
      "restricted_stock:\n",
      "                 0.0503144654088\n",
      "total_stock_value:\n",
      "                 0.202194567108\n",
      "expenses:\n",
      "                 0.131449263525\n",
      "long_term_incentive:\n",
      "                 0.0\n",
      "from_poi_to_this_person:\n",
      "                 0.0073075771189\n",
      "total_payments:\n",
      "                 0.105750224618\n",
      "shared_receipt_with_poi:\n",
      "                 0.20627092357\n",
      "deferred_income:\n",
      "                 0.0894462411953\n"
     ]
    }
   ],
   "source": [
    "### Finalize the features_list\n",
    "pre_features_list = ['salary',\n",
    "                     'exercised_stock_options',\n",
    "                     'bonus',\n",
    "                     'restricted_stock',\n",
    "                     'total_stock_value',\n",
    "                     'expenses',\n",
    "                     'long_term_incentive',\n",
    "                     'from_poi_to_this_person',\n",
    "                     'total_payments',\n",
    "                     'shared_receipt_with_poi',\n",
    "                     'deferred_income',\n",
    "                     'poi']\n",
    "\n",
    "### Convert data_dict_new into numpy array\n",
    "total_data = featureFormat(data_dict_new, pre_features_list)\n",
    "\n",
    "print total_data.shape\n",
    "\n",
    "### Extract features from the data\n",
    "features = total_data\n",
    "features = np.delete(features, pre_features_list.index(\"poi\"), 1)\n",
    "\n",
    "### Extract a label from the data\n",
    "label = total_data[:,pre_features_list.index(\"poi\")]\n",
    "\n",
    "### Rescale features\n",
    "from sklearn.preprocessing import MinMaxScaler\n",
    "min_max_scaler = MinMaxScaler()\n",
    "features = min_max_scaler.fit_transform(features) \n",
    "\n",
    "### Setting the classifier\n",
    "### Parameters are already chosen by running GridSearchCV method.\n",
    "### These parameters provide the best scores.\n",
    "clf = tree.DecisionTreeClassifier(criterion='gini', splitter='random', min_samples_split=3)\n",
    "clf = clf.fit(features,label)\n",
    "\n",
    "features_list_wo_poi = [i for i in pre_features_list if i!=\"poi\"] ### features list without poi\n",
    "\n",
    "for i in range(len(features_list_wo_poi)):\n",
    "    print \"{}:\".format(features_list_wo_poi[i])\n",
    "    print \"                 {}\".format(clf.feature_importances_[i])"
   ]
  },
  {
   "cell_type": "markdown",
   "metadata": {},
   "source": [
    "I realized that the problem of choosing features using **Decision Tree** feature importances method is that the ranking keep changing everytime I run this code.\n",
    "\n",
    "So I decided to select **6** features using **SelectKBest**."
   ]
  },
  {
   "cell_type": "code",
   "execution_count": 160,
   "metadata": {
    "collapsed": false
   },
   "outputs": [
    {
     "name": "stdout",
     "output_type": "stream",
     "text": [
      "salary\n",
      "exercised_stock_options\n",
      "bonus\n",
      "restricted_stock\n",
      "total_stock_value\n",
      "expenses\n",
      "long_term_incentive\n",
      "from_poi_to_this_person\n",
      "total_payments\n",
      "shared_receipt_with_poi\n",
      "deferred_income\n",
      "poi\n",
      "(144L, 12L)\n",
      "Selected by SelectKBest\n",
      "\tsalary\n",
      "\texercised_stock_options\n",
      "\tbonus\n",
      "\ttotal_stock_value\n",
      "\tlong_term_incentive\n",
      "\tdeferred_income\n"
     ]
    }
   ],
   "source": [
    "### append poi to only_in_selected\n",
    "pre_features_list = pre_features_list[:11]\n",
    "pre_features_list.append(\"poi\")\n",
    "\n",
    "for i in pre_features_list:\n",
    "    print i\n",
    "\n",
    "### Convert data_dict_new into numpy array\n",
    "total_data = featureFormat(data_dict_new, pre_features_list)\n",
    "\n",
    "print total_data.shape\n",
    "\n",
    "### Extract features from the data\n",
    "features = total_data\n",
    "features = np.delete(features, pre_features_list.index(\"poi\"), 1)\n",
    "\n",
    "### Extract a label from the data\n",
    "label = total_data[:,pre_features_list.index(\"poi\")]\n",
    "\n",
    "### Rescale features\n",
    "from sklearn.preprocessing import MinMaxScaler\n",
    "min_max_scaler = MinMaxScaler()\n",
    "features = min_max_scaler.fit_transform(features) \n",
    "\n",
    "selector = SelectKBest(f_classif, k=6)\n",
    "selector = selector.fit(features,label)\n",
    "\n",
    "features_list_wo_poi = [i for i in pre_features_list if i!=\"poi\"] ### features list without poi\n",
    "\n",
    "### Print features chosen by SelectKBest\n",
    "selected_list = [features_list_wo_poi[i] for i in range(len(features_list_wo_poi)) if selector.get_support()[i]]\n",
    "\n",
    "print \"Selected by SelectKBest\"\n",
    "for i in selected_list:\n",
    "    print \"\\t\", i"
   ]
  },
  {
   "cell_type": "code",
   "execution_count": 161,
   "metadata": {
    "collapsed": false
   },
   "outputs": [],
   "source": [
    "### Finalize the features_list\n",
    "features_list = ['salary',\n",
    "                 'exercised_stock_options',\n",
    "                 'bonus',\n",
    "                 'total_stock_value',\n",
    "                 'long_term_incentive',\n",
    "                 'deferred_income',\n",
    "                 'poi']\n",
    "\n",
    "### Recreate data numpy array with the new features_list\n",
    "data = featureFormat(data_dict_new, features_list)"
   ]
  },
  {
   "cell_type": "markdown",
   "metadata": {},
   "source": [
    "Now the **features_list** is finalized.\n",
    "\n",
    "\tsalary\n",
    "\texercised_stock_options\n",
    "\tbonus\n",
    "\ttotal_stock_value\n",
    "\tlong_term_incentive\n",
    "\tdeferred_income"
   ]
  },
  {
   "cell_type": "markdown",
   "metadata": {},
   "source": [
    "## Bivariate Analysis"
   ]
  },
  {
   "cell_type": "markdown",
   "metadata": {},
   "source": [
    "In bivariate analysis section, I will investigate the relationship between two features.\n",
    "Below is the list of pairs of features I am going to see.\n",
    "\n",
    "**Pairs of Best features**\n",
    "- bonus and exercised_stock_options\n",
    "- bonus and total_stock_value\n",
    "- exercised_stock_options and total_stock_value\n",
    "\n",
    "**Best features and others** *x is bonus, exercised_stock_options or total_stock_value*\n",
    "- x and salary\n",
    "- x and long_term_incentive\n",
    "- x and deferred_income\n",
    "    \n",
    "There are total 12 scatter plots. For each scatter plot, if I see something interesting, I will use Naive Bayes and SVM (rdf) to see the accuracy, precision and recall.\n",
    "\n",
    "At the end of this section, I will gather the pairs of features with high positive correlation for PCA. I will combine the pairs of features with the largest accuracy and use them for the further analysis."
   ]
  },
  {
   "cell_type": "markdown",
   "metadata": {},
   "source": [
    "### Bonus and Exercised Stock Options"
   ]
  },
  {
   "cell_type": "markdown",
   "metadata": {},
   "source": [
    "I will first check the relationship between bonus and exercised_stock_options by graphing a scatter plot."
   ]
  },
  {
   "cell_type": "code",
   "execution_count": 162,
   "metadata": {
    "collapsed": false
   },
   "outputs": [
    {
     "data": {
      "image/png": "[encoded data removed]",
      "text/plain": [
       "<matplotlib.figure.Figure at 0x4027978>"
      ]
     },
     "metadata": {},
     "output_type": "display_data"
    }
   ],
   "source": [
    "%matplotlib inline\n",
    "### Set the size of the plot\n",
    "plt.rcParams[\"figure.figsize\"] = (6,6)\n",
    "\n",
    "### Draw Salary histogram\n",
    "plt.scatter(data[:,features_list.index(\"bonus\")], data[:,features_list.index(\"exercised_stock_options\")])\n",
    "plt.xlabel(\"bonus\")\n",
    "plt.ylabel(\"exercised_stock_options\")\n",
    "plt.title(\"bonus and exercised_stock_options\")\n",
    "plt.show()"
   ]
  },
  {
   "cell_type": "markdown",
   "metadata": {
    "collapsed": true
   },
   "source": [
    "I will add colors to this scatter plot. I will color the points from poi to be red and the others to be blue."
   ]
  },
  {
   "cell_type": "code",
   "execution_count": 163,
   "metadata": {
    "collapsed": false,
    "scrolled": true
   },
   "outputs": [
    {
     "data": {
      "image/png": "[encoded data removed]",
      "text/plain": [
       "<matplotlib.figure.Figure at 0x94db160>"
      ]
     },
     "metadata": {},
     "output_type": "display_data"
    }
   ],
   "source": [
    "%matplotlib inline\n",
    "### Set the size of the plot\n",
    "plt.rcParams[\"figure.figsize\"] = (6,6)\n",
    "\n",
    "### Reassign poi index\n",
    "poi_ind = features_list.index(\"poi\")\n",
    "bon_ind = features_list.index(\"bonus\")\n",
    "eso_ind = features_list.index(\"exercised_stock_options\")\n",
    "\n",
    "### Create arrays for salary and bonus for poi and non-poi\n",
    "bon_poi     = [data[:,bon_ind][ii] for ii in range(0, len(data[:,0])) if data[:,poi_ind][ii]]\n",
    "eso_poi     = [data[:,eso_ind][ii] for ii in range(0, len(data[:,0])) if data[:,poi_ind][ii]]\n",
    "bon_nonpoi  = [data[:,bon_ind][ii] for ii in range(0, len(data[:,0])) if not data[:,poi_ind][ii]]\n",
    "eso_nonpoi  = [data[:,eso_ind][ii] for ii in range(0, len(data[:,0])) if not data[:,poi_ind][ii]]\n",
    "\n",
    "### Draw Salary histogram\n",
    "plt.scatter(bon_poi,eso_poi,color=\"r\",label=\"poi\")\n",
    "plt.scatter(bon_nonpoi,eso_nonpoi,color=\"b\",label=\"non-poi\")\n",
    "plt.legend()\n",
    "plt.xlabel(\"bonus\")\n",
    "plt.ylabel(\"exercised_stock_options\")\n",
    "plt.title(\"bonus and exercised_stock_options\")\n",
    "plt.show()"
   ]
  },
  {
   "cell_type": "markdown",
   "metadata": {},
   "source": [
    "The cluster at the left bottom corner doesn't tell us much. It is difficult to identify any pattern in this cluster.\n",
    "\n",
    "There are 4 poi at the upper right corner that are seperated from the cluster.\n",
    "\n",
    "Now let's use these features and see how accurately they find POI's.\n",
    "\n",
    "I will use **GaussianNB**, **DecisionTree**, **SVM**, **KNN**,  and **Logistic Regression** using various parameters.\n",
    "\n",
    "This will be a repititive process so I will create functions for each classifiers."
   ]
  },
  {
   "cell_type": "markdown",
   "metadata": {},
   "source": [
    "## Functions of Classifiers\n",
    "### Creating classify_advanced function"
   ]
  },
  {
   "cell_type": "code",
   "execution_count": 164,
   "metadata": {
    "collapsed": false
   },
   "outputs": [],
   "source": [
    "### Use GridSearchCV to find the best parameters\n",
    "from sklearn.grid_search import GridSearchCV\n",
    "\n",
    "def classify_advanced(features_list, classifiers, \n",
    "                      print_result=False, draw_graph=False):\n",
    "    ### Print out features being classified\n",
    "    print \"Features list:\", features_list[1:]\n",
    "    \n",
    "    ### Create an empty scores array\n",
    "    scores = []\n",
    "    \n",
    "    ### for each classifier in classifiers calculate scores\n",
    "    for classifier in classifiers:\n",
    "        if classifier == \"GaussianNB\":\n",
    "            ### set GaussianNB\n",
    "            clf = GaussianNB()\n",
    "            \n",
    "        elif classifier == \"DecisionTree\":\n",
    "            ### set Decision Tree\n",
    "            \n",
    "            ### This parameters are the best parameters I got from running the GridSearchCV\n",
    "            clf = tree.DecisionTreeClassifier(criterion='gini', splitter='random', min_samples_split=5)\n",
    "            \n",
    "#             param_grid = {\n",
    "#                 'criterion': ['gini', 'entropy'],\n",
    "#                 'splitter' : ['best', 'random'],\n",
    "#                 'min_samples_split': range(2,10)\n",
    "#                   }\n",
    "#             clf = GridSearchCV(tree.DecisionTreeClassifier(), param_grid, scoring='f1')\n",
    "            \n",
    "        elif classifier == \"SVM\":\n",
    "            from sklearn import svm\n",
    "            \n",
    "            clf = svm.SVC()\n",
    "            \n",
    "#             param_grid = {\n",
    "#                 'kernel': ['rbf', 'linear', 'poly'],\n",
    "#                 'degree': [2,3,4,5],\n",
    "#                 'gamma': ['auto', 0.1, 0.3, 0.5, 0.7]\n",
    "#                 }\n",
    "#             clf = GridSearchCV(svm.SVC(), param_grid, scoring='f1')\n",
    "        \n",
    "        elif classifier == \"KNN\":\n",
    "            from sklearn.neighbors import KNeighborsRegressor\n",
    "            \n",
    "            ### This parameters are the best parameters I got from running the GridSearchCV\n",
    "            clf = KNeighborsRegressor(n_neighbors=3, weights='uniform', algorithm='auto')\n",
    "            \n",
    "#             param_grid = {\n",
    "#                 'n_neighbors': [1,2,3,4,5,6,7,8,9,10],\n",
    "#                 'weights': ['uniform', 'distance'],\n",
    "#                 'algorithm': ['auto','ball_tree','kd_tree','brute']\n",
    "#             }\n",
    "#             clf = GridSearchCV(KNeighborsRegressor(), param_grid, scoring='average_precision')\n",
    "#         'average_precision', 'f1', 'f1_macro', 'f1_micro', 'f1_samples', 'f1_weighted'\n",
    "\n",
    "        elif classifier == \"Logistic\":\n",
    "            from sklearn.linear_model import LogisticRegression\n",
    "            \n",
    "            ### This parameters are the best parameters I got from running the GridSearchCV\n",
    "            clf = LogisticRegression(C=0.1, max_iter=15, solver='newton-cg')\n",
    "            \n",
    "#             param_grid = {\n",
    "#                 'C': [.1,.3,.5,.7,.9],\n",
    "#                 'max_iter': [1,2,3,4,5,6,7,8,9,10],\n",
    "#                 'solver': ['newton-cg','lbfgs','liblinear','sag']\n",
    "#             }\n",
    "#             clf = GridSearchCV(LogisticRegression(), param_grid, scoring='f1')\n",
    "        \n",
    "        ### Call test function and print out test\n",
    "        scores.append(test(\n",
    "                features_list,clf,\n",
    "                print_result=print_result, draw_graph=draw_graph, rescale=True))\n",
    "    \n",
    "    return scores"
   ]
  },
  {
   "cell_type": "markdown",
   "metadata": {},
   "source": [
    "This function will be used whenever I check the scores for any combination of features. If I want to use GaussianNB then I just need to set 'classifiers = [\"GaussianNB\"]'. I can use multiple classifiers if I put 'classifiers = [\"GaussianNB\", \"DecisionTree\", \"SVM\"]'. In this case, the function prints out test scores for each classifier and shows the best parameter to be used.\n",
    "\n",
    "draw_graph parameter will draw a scatter plot from test set where red shaded area predicts poi and blue shaded area predicts non-poi.\n",
    "\n",
    "I will try to use this function with 'bonus' and 'exercised_stock_options' and see if the function works ok."
   ]
  },
  {
   "cell_type": "markdown",
   "metadata": {},
   "source": [
    "### Note:\n",
    "\n",
    "Note that for this function, I added scaler function in the **tester_edited.py** file. **SVM** and other classifiers are affected by the scale of the data. So rescaling the data to 0 to 1 will result in more consistent and reliable results. Below is the code in **test_classifier** function.\n",
    "\n",
    "    if rescale:\n",
    "        from sklearn.preprocessing import MinMaxScaler\n",
    "        min_max_scaler = MinMaxScaler()\n",
    "        features = min_max_scaler.fit_transform(features)  \n",
    "\n",
    "rescale is a variable that takes the boolean value. If it is true then the function will rescale the features using MinMaxScaler from sklearn. I set *rescale=True* for this project for convenience.\n",
    "\n",
    "And I commented out the GridSearchCV and fixed parameters to get the faster results."
   ]
  },
  {
   "cell_type": "markdown",
   "metadata": {},
   "source": [
    "### Bonus and Exercised Stock Options - Decision Tree"
   ]
  },
  {
   "cell_type": "code",
   "execution_count": 165,
   "metadata": {
    "collapsed": false,
    "scrolled": true
   },
   "outputs": [
    {
     "name": "stdout",
     "output_type": "stream",
     "text": [
      "Features list: ['bonus', 'exercised_stock_options']\n",
      "drawing\n"
     ]
    },
    {
     "data": {
      "image/png": "[encoded data removed]",
      "text/plain": [
       "<matplotlib.figure.Figure at 0x94814e0>"
      ]
     },
     "metadata": {},
     "output_type": "display_data"
    },
    {
     "name": "stdout",
     "output_type": "stream",
     "text": [
      "\n",
      "DecisionTreeClassifier(class_weight=None, criterion='gini', max_depth=None,\n",
      "            max_features=None, max_leaf_nodes=None, min_samples_leaf=1,\n",
      "            min_samples_split=5, min_weight_fraction_leaf=0.0,\n",
      "            presort=False, random_state=None, splitter='random')\n",
      "\n",
      "\tBest parameters:\n",
      "\tNo GridSearch\n",
      "\n",
      "\tAccuracy: 0.83931\tPrecision: 0.46950\tRecall: 0.34250\tF1: 0.39607\tF2: 0.36209\n",
      "\tTotal predictions: 26000\tTrue positives: 1370\tFalse positives: 1548\tFalse negatives: 2630\tTrue negatives: 20452\n",
      "\n"
     ]
    }
   ],
   "source": [
    "results = {}\n",
    "%matplotlib inline\n",
    "features = ['poi', 'bonus', 'exercised_stock_options']\n",
    "classifiers = ['DecisionTree']\n",
    "results[\"DecisionTree\"] = classify_advanced(features, classifiers, print_result=True, draw_graph=True)"
   ]
  },
  {
   "cell_type": "markdown",
   "metadata": {},
   "source": [
    "The function works find and the result is shown above.\n",
    "- Accuracy: ~ 84.2%\n",
    "- Precision: ~ 48.2%\n",
    "- Recall: ~ 34.5%\n",
    "\n",
    "*The scores will be slightly different because the algorithm randomly splits the data into test and train sets.*\n",
    "\n",
    "Although the scores are very nice, the problem is very obvious when you look at the graph.\n",
    "All of the test points are in the non-poi area and the reason why the scores could be so high is because the majority in the cluster at the left bottom corner is non-poi. So if we predict everything at these area to be non-poi then we will have pretty decent scores.\n",
    "\n",
    "Let's try calculate scores again with different classfiers."
   ]
  },
  {
   "cell_type": "markdown",
   "metadata": {},
   "source": [
    "### Bonus and Exercised Stock Options - GaussianNB"
   ]
  },
  {
   "cell_type": "code",
   "execution_count": 166,
   "metadata": {
    "collapsed": false
   },
   "outputs": [
    {
     "name": "stdout",
     "output_type": "stream",
     "text": [
      "Features list: ['bonus', 'exercised_stock_options']\n",
      "drawing\n"
     ]
    },
    {
     "data": {
      "image/png": "[encoded data removed]",
      "text/plain": [
       "<matplotlib.figure.Figure at 0xef16e10>"
      ]
     },
     "metadata": {},
     "output_type": "display_data"
    },
    {
     "name": "stdout",
     "output_type": "stream",
     "text": [
      "\n",
      "GaussianNB()\n",
      "\n",
      "\tBest parameters:\n",
      "\tNo GridSearch\n",
      "\n",
      "\tAccuracy: 0.19708\tPrecision: 0.12458\tRecall: 0.70000\tF1: 0.21151\tF2: 0.36386\n",
      "\tTotal predictions: 26000\tTrue positives: 2800\tFalse positives: 19676\tFalse negatives: 1200\tTrue negatives: 2324\n",
      "\n"
     ]
    }
   ],
   "source": [
    "%matplotlib inline\n",
    "features = ['poi', 'bonus', 'exercised_stock_options']\n",
    "classifiers = ['GaussianNB']\n",
    "results[\"GaussianNB\"] = classify_advanced(features, classifiers, print_result=True, draw_graph=True)"
   ]
  },
  {
   "cell_type": "markdown",
   "metadata": {},
   "source": [
    "GaussianNB doesn't have parameters according to the document from sklearn. So this will be the faster to run than DecisionTree or SVM.\n",
    "\n",
    "The scores are shown above. *(The scores will be slightly different as I mentioned above.)*\n",
    "\n",
    "- Accuracy: 19.7 %\n",
    "- Precision: 12.5 %\n",
    "- Recall: 70%\n",
    "\n",
    "Although recall is quite high but other scores are pretty low because there are very few false negatives. So GaussianNB is good at identifying POI as POI. However, due to high false positives, we cannot trust the result when it says POI because a lot of them are in fact non-POIs. So GaussianNB is not a good classifier to use for these features."
   ]
  },
  {
   "cell_type": "markdown",
   "metadata": {},
   "source": [
    "### Bonus and Exercised Stock Options - SVM"
   ]
  },
  {
   "cell_type": "code",
   "execution_count": 167,
   "metadata": {
    "collapsed": false
   },
   "outputs": [
    {
     "name": "stdout",
     "output_type": "stream",
     "text": [
      "Features list: ['bonus', 'exercised_stock_options']\n",
      "drawing\n"
     ]
    },
    {
     "data": {
      "image/png": "[encoded data removed]",
      "text/plain": [
       "<matplotlib.figure.Figure at 0xa513e10>"
      ]
     },
     "metadata": {},
     "output_type": "display_data"
    },
    {
     "name": "stdout",
     "output_type": "stream",
     "text": [
      "Got a divide by zero when trying out: SVC(C=1.0, cache_size=200, class_weight=None, coef0=0.0,\n",
      "  decision_function_shape=None, degree=3, gamma='auto', kernel='rbf',\n",
      "  max_iter=-1, probability=False, random_state=None, shrinking=True,\n",
      "  tol=0.001, verbose=False)\n",
      "Precision or recall may be undefined due to a lack of true positive predicitons.\n",
      "\n"
     ]
    }
   ],
   "source": [
    "%matplotlib inline\n",
    "features = ['poi', 'bonus', 'exercised_stock_options']\n",
    "classifiers = ['SVM']\n",
    "results[\"SVM\"] = classify_advanced(features, classifiers, print_result=True, draw_graph=True)"
   ]
  },
  {
   "cell_type": "markdown",
   "metadata": {},
   "source": [
    "Error occurs. This error occurs when there are too many zeros. I guess SVM requires more non zero values than GaussianNB and DecisionTree."
   ]
  },
  {
   "cell_type": "markdown",
   "metadata": {},
   "source": [
    "### Bonus and Exercised Stock Options - KNN"
   ]
  },
  {
   "cell_type": "code",
   "execution_count": 168,
   "metadata": {
    "collapsed": false
   },
   "outputs": [
    {
     "name": "stdout",
     "output_type": "stream",
     "text": [
      "Features list: ['bonus', 'exercised_stock_options']\n",
      "drawing\n"
     ]
    },
    {
     "data": {
      "image/png": "[encoded data removed]",
      "text/plain": [
       "<matplotlib.figure.Figure at 0xf31f160>"
      ]
     },
     "metadata": {},
     "output_type": "display_data"
    },
    {
     "name": "stdout",
     "output_type": "stream",
     "text": [
      "\n",
      "KNeighborsRegressor(algorithm='auto', leaf_size=30, metric='minkowski',\n",
      "          metric_params=None, n_jobs=1, n_neighbors=3, p=2,\n",
      "          weights='uniform')\n",
      "\n",
      "\tBest parameters:\n",
      "\tNo GridSearch\n",
      "\n",
      "\tAccuracy: 0.85177\tPrecision: 0.52771\tRecall: 0.34750\tF1: 0.41905\tF2: 0.37297\n",
      "\tTotal predictions: 26000\tTrue positives: 1390\tFalse positives: 1244\tFalse negatives: 2610\tTrue negatives: 20756\n",
      "\n"
     ]
    }
   ],
   "source": [
    "%matplotlib inline\n",
    "features = ['poi', 'bonus', 'exercised_stock_options']\n",
    "classifiers = ['KNN']\n",
    "results[\"KNN\"] = classify_advanced(features, classifiers, print_result=True, draw_graph=True)"
   ]
  },
  {
   "cell_type": "markdown",
   "metadata": {},
   "source": [
    "As a result\n",
    "\n",
    "- Accuracy: ~ 85.2%\n",
    "- Precision: ~ 52.8%\n",
    "- Recall: ~ 34.8%\n",
    "\n",
    "The scores are excellent. In previous version, I used GridSearchCV over and over again within the iteration in test_classfier function. I analyzed the results and found the most frequently used parameters. I fixed these parameters and the result was better than I expected."
   ]
  },
  {
   "cell_type": "markdown",
   "metadata": {},
   "source": [
    "### Bonus and Exercised Stock Options - Logistic Regression"
   ]
  },
  {
   "cell_type": "code",
   "execution_count": 169,
   "metadata": {
    "collapsed": false
   },
   "outputs": [
    {
     "name": "stdout",
     "output_type": "stream",
     "text": [
      "Features list: ['bonus', 'exercised_stock_options']\n",
      "drawing\n"
     ]
    },
    {
     "data": {
      "image/png": "[encoded data removed]",
      "text/plain": [
       "<matplotlib.figure.Figure at 0xb94fdd8>"
      ]
     },
     "metadata": {},
     "output_type": "display_data"
    },
    {
     "name": "stdout",
     "output_type": "stream",
     "text": [
      "Got a divide by zero when trying out: LogisticRegression(C=0.1, class_weight=None, dual=False, fit_intercept=True,\n",
      "          intercept_scaling=1, max_iter=15, multi_class='ovr', n_jobs=1,\n",
      "          penalty='l2', random_state=None, solver='newton-cg', tol=0.0001,\n",
      "          verbose=0, warm_start=False)\n",
      "Precision or recall may be undefined due to a lack of true positive predicitons.\n",
      "\n"
     ]
    }
   ],
   "source": [
    "%matplotlib inline\n",
    "features = ['poi', 'bonus', 'exercised_stock_options']\n",
    "classifiers = ['Logistic']\n",
    "results[\"Logistic\"] = classify_advanced(features, classifiers, print_result=True, draw_graph=True)"
   ]
  },
  {
   "cell_type": "markdown",
   "metadata": {},
   "source": [
    "Similar to SVM, due to too many zeros, error occurs while running **Logistic Regression**. We need to try it with different features."
   ]
  },
  {
   "cell_type": "markdown",
   "metadata": {},
   "source": [
    "### Recap of Bonus and Exercised Stock Options"
   ]
  },
  {
   "cell_type": "markdown",
   "metadata": {},
   "source": [
    "We found that the classify_advanced function works nicely. Although there was an error when running SVM due to a lack of non-zero values, the overall results seem to be ok. Below is the summary of the results."
   ]
  },
  {
   "cell_type": "code",
   "execution_count": 170,
   "metadata": {
    "collapsed": false
   },
   "outputs": [
    {
     "data": {
      "text/plain": [
       "{'DecisionTree': [[0.8393076923076923, 0.4694996572995202, 0.3425, {}]],\n",
       " 'GaussianNB': [[0.19707692307692307, 0.12457732692649938, 0.7, {}]],\n",
       " 'KNN': [[0.8517692307692307, 0.527714502657555, 0.3475, {}]],\n",
       " 'Logistic': [None],\n",
       " 'SVM': [None]}"
      ]
     },
     "execution_count": 170,
     "metadata": {},
     "output_type": "execute_result"
    }
   ],
   "source": [
    "### Results from analysis of Bonus and Exercised Stock Options\n",
    "results"
   ]
  },
  {
   "cell_type": "markdown",
   "metadata": {},
   "source": [
    "**KNN** has the best accuracy and precision and **Decision Tree** has the lowest recall. **GaussianNB** has the highest recall. **DecisionTree** and **KNN** are the algorithms where every score is above 0.3. And **KNN** is surpassing **Decision Tree** in every score."
   ]
  },
  {
   "cell_type": "markdown",
   "metadata": {},
   "source": [
    "### Bonus and Total Stock Value"
   ]
  },
  {
   "cell_type": "markdown",
   "metadata": {},
   "source": [
    "Similar to what I did before, I will plot the scatter plot for bonus and total_stock_value.\n",
    "\n",
    "Before plotting, I will first create a function for the scatter plot because the codes will be redundant."
   ]
  },
  {
   "cell_type": "code",
   "execution_count": 171,
   "metadata": {
    "collapsed": false
   },
   "outputs": [],
   "source": [
    "### Set the poi_ind\n",
    "poi_ind = features_list.index(\"poi\")\n",
    "\n",
    "%matplotlib inline\n",
    "### Set the size of the plot\n",
    "plt.rcParams[\"figure.figsize\"] = (6,6)\n",
    "\n",
    "### function for scatter plots\n",
    "def scatter_plotting(x,y):\n",
    "    ### Find index of x and y\n",
    "    x_ind = features_list.index(x)\n",
    "    y_ind = features_list.index(y)\n",
    "    \n",
    "    ### Create arrays for salary and bonus for poi and non-poi\n",
    "    x_poi    = [data[:,x_ind][ii] for ii in range(0, len(data[:,0])) if data[:,poi_ind][ii]]\n",
    "    y_poi    = [data[:,y_ind][ii] for ii in range(0, len(data[:,0])) if data[:,poi_ind][ii]]\n",
    "    x_nonpoi = [data[:,x_ind][ii] for ii in range(0, len(data[:,0])) if not data[:,poi_ind][ii]]\n",
    "    y_nonpoi = [data[:,y_ind][ii] for ii in range(0, len(data[:,0])) if not data[:,poi_ind][ii]]\n",
    "\n",
    "    ### Draw Salary histogram\n",
    "    plt.scatter(x_poi,   y_poi,   color=\"r\",label=\"poi\")\n",
    "    plt.scatter(x_nonpoi,y_nonpoi,color=\"b\",label=\"non-poi\")\n",
    "    plt.legend(loc='center left', bbox_to_anchor=(1, 0.5))\n",
    "    plt.xlabel(x)\n",
    "    plt.ylabel(y)\n",
    "    plt.title(\"{} and {}\".format(x, y))\n",
    "    plt.show()"
   ]
  },
  {
   "cell_type": "markdown",
   "metadata": {},
   "source": [
    "This function will create the scattor plot coloring poi as red and non-poi as blue."
   ]
  },
  {
   "cell_type": "code",
   "execution_count": 172,
   "metadata": {
    "collapsed": false
   },
   "outputs": [
    {
     "data": {
      "image/png": "[encoded data removed]",
      "text/plain": [
       "<matplotlib.figure.Figure at 0xb2d6e48>"
      ]
     },
     "metadata": {},
     "output_type": "display_data"
    }
   ],
   "source": [
    "### Scatter plot between bonus and total_stock_value\n",
    "scatter_plotting(\"bonus\",\"total_stock_value\")"
   ]
  },
  {
   "cell_type": "markdown",
   "metadata": {},
   "source": [
    "The plot is similar to the scatter plot between bonus and exercised stock options. POIs are usually outside of the cluster at the left bottom corner. Due to its similarity, I expect that the scores from classifiers will be similar as well."
   ]
  },
  {
   "cell_type": "markdown",
   "metadata": {},
   "source": [
    "### Bonus and Total Stock Value - Classifiers"
   ]
  },
  {
   "cell_type": "markdown",
   "metadata": {},
   "source": [
    "I am going to calculate the scores between bonus and total_stock_value from various classifiers.\n",
    "\n",
    "I will set draw_graph to be False because I only care about scores. This will take a long time when you run because it is calculating scores using all of the classifiers."
   ]
  },
  {
   "cell_type": "code",
   "execution_count": 173,
   "metadata": {
    "collapsed": false
   },
   "outputs": [
    {
     "name": "stdout",
     "output_type": "stream",
     "text": [
      "Features list: ['bonus', 'total_stock_value']\n",
      "\n",
      "DecisionTreeClassifier(class_weight=None, criterion='gini', max_depth=None,\n",
      "            max_features=None, max_leaf_nodes=None, min_samples_leaf=1,\n",
      "            min_samples_split=5, min_weight_fraction_leaf=0.0,\n",
      "            presort=False, random_state=None, splitter='random')\n",
      "\n",
      "\tBest parameters:\n",
      "\tNo GridSearch\n",
      "\n",
      "\tAccuracy: 0.82054\tPrecision: 0.37319\tRecall: 0.24500\tF1: 0.29580\tF2: 0.26307\n",
      "\tTotal predictions: 26000\tTrue positives:  980\tFalse positives: 1646\tFalse negatives: 3020\tTrue negatives: 20354\n",
      "\n",
      "\n",
      "GaussianNB()\n",
      "\n",
      "\tBest parameters:\n",
      "\tNo GridSearch\n",
      "\n",
      "\tAccuracy: 0.20054\tPrecision: 0.12767\tRecall: 0.71950\tF1: 0.21686\tF2: 0.37336\n",
      "\tTotal predictions: 26000\tTrue positives: 2878\tFalse positives: 19664\tFalse negatives: 1122\tTrue negatives: 2336\n",
      "\n",
      "Got a divide by zero when trying out: SVC(C=1.0, cache_size=200, class_weight=None, coef0=0.0,\n",
      "  decision_function_shape=None, degree=3, gamma='auto', kernel='rbf',\n",
      "  max_iter=-1, probability=False, random_state=None, shrinking=True,\n",
      "  tol=0.001, verbose=False)\n",
      "Precision or recall may be undefined due to a lack of true positive predicitons.\n",
      "\n",
      "\n",
      "KNeighborsRegressor(algorithm='auto', leaf_size=30, metric='minkowski',\n",
      "          metric_params=None, n_jobs=1, n_neighbors=3, p=2,\n",
      "          weights='uniform')\n",
      "\n",
      "\tBest parameters:\n",
      "\tNo GridSearch\n",
      "\n",
      "\tAccuracy: 0.81815\tPrecision: 0.35203\tRecall: 0.21650\tF1: 0.26811\tF2: 0.23456\n",
      "\tTotal predictions: 26000\tTrue positives:  866\tFalse positives: 1594\tFalse negatives: 3134\tTrue negatives: 20406\n",
      "\n",
      "Got a divide by zero when trying out: LogisticRegression(C=0.1, class_weight=None, dual=False, fit_intercept=True,\n",
      "          intercept_scaling=1, max_iter=15, multi_class='ovr', n_jobs=1,\n",
      "          penalty='l2', random_state=None, solver='newton-cg', tol=0.0001,\n",
      "          verbose=0, warm_start=False)\n",
      "Precision or recall may be undefined due to a lack of true positive predicitons.\n",
      "\n"
     ]
    }
   ],
   "source": [
    "### Caclulating scores between bonus and total_stock_value\n",
    "features = ['poi', 'bonus', 'total_stock_value']\n",
    "classifiers = ['DecisionTree', 'GaussianNB', 'SVM', 'KNN', 'Logistic']\n",
    "results = classify_advanced(features, classifiers, print_result=True, draw_graph=False)"
   ]
  },
  {
   "cell_type": "code",
   "execution_count": 174,
   "metadata": {
    "collapsed": false
   },
   "outputs": [],
   "source": [
    "### Function for printing out results\n",
    "def print_out_result(results):\n",
    "    classifiers = ['DecisionTree', 'GaussianNB', 'SVM', 'KNN', 'Logistic']\n",
    "    print \"\\n           Accuracy   Precision     Recall\"\n",
    "    for i in range(len(results)):\n",
    "        \n",
    "        print classifiers[i]\n",
    "        if results[i] == None:\n",
    "            print \"           --------------None--------------\"\n",
    "        else:\n",
    "            print \"            {0:0.4f}      {1:0.4f}      {2:0.4f}\".format(results[i][0], results[i][1], results[i][2])"
   ]
  },
  {
   "cell_type": "code",
   "execution_count": 175,
   "metadata": {
    "collapsed": false
   },
   "outputs": [
    {
     "name": "stdout",
     "output_type": "stream",
     "text": [
      "\n",
      "           Accuracy   Precision     Recall\n",
      "DecisionTree\n",
      "            0.8205      0.3732      0.2450\n",
      "GaussianNB\n",
      "            0.2005      0.1277      0.7195\n",
      "SVM\n",
      "           --------------None--------------\n",
      "KNN\n",
      "            0.8182      0.3520      0.2165\n",
      "Logistic\n",
      "           --------------None--------------\n"
     ]
    }
   ],
   "source": [
    "print_out_result(results)"
   ]
  },
  {
   "cell_type": "markdown",
   "metadata": {},
   "source": [
    "The result is different from the previous one. **Decision tree** shows the highest values for Accuracy and Precision and **GaussianNB** shows the highest Recall. Unfortunately, no result has scores all above 0.3."
   ]
  },
  {
   "cell_type": "markdown",
   "metadata": {},
   "source": [
    "### exercised_stock_options and total_stock_value"
   ]
  },
  {
   "cell_type": "markdown",
   "metadata": {},
   "source": [
    "First I will plot the scatter plot and see their relationship visually."
   ]
  },
  {
   "cell_type": "code",
   "execution_count": 176,
   "metadata": {
    "collapsed": false
   },
   "outputs": [
    {
     "data": {
      "image/png": "[encoded data removed]",
      "text/plain": [
       "<matplotlib.figure.Figure at 0x9508c88>"
      ]
     },
     "metadata": {},
     "output_type": "display_data"
    }
   ],
   "source": [
    "### Scatter plot between bonus and total_stock_value\n",
    "scatter_plotting(\"exercised_stock_options\",\"total_stock_value\")"
   ]
  },
  {
   "cell_type": "markdown",
   "metadata": {},
   "source": [
    "As I expected there is a positive correlation between these two features.\n",
    "\n",
    "Next, I will calculate the accuracy, precision and recall."
   ]
  },
  {
   "cell_type": "code",
   "execution_count": 177,
   "metadata": {
    "collapsed": false,
    "scrolled": true
   },
   "outputs": [
    {
     "name": "stdout",
     "output_type": "stream",
     "text": [
      "Features list: ['exercised_stock_options', 'total_stock_value']\n",
      "\n",
      "DecisionTreeClassifier(class_weight=None, criterion='gini', max_depth=None,\n",
      "            max_features=None, max_leaf_nodes=None, min_samples_leaf=1,\n",
      "            min_samples_split=5, min_weight_fraction_leaf=0.0,\n",
      "            presort=False, random_state=None, splitter='random')\n",
      "\n",
      "\tBest parameters:\n",
      "\tNo GridSearch\n",
      "\n",
      "\tAccuracy: 0.82377\tPrecision: 0.35580\tRecall: 0.17950\tF1: 0.23862\tF2: 0.19925\n",
      "\tTotal predictions: 26000\tTrue positives:  718\tFalse positives: 1300\tFalse negatives: 3282\tTrue negatives: 20700\n",
      "\n",
      "\n",
      "GaussianNB()\n",
      "\n",
      "\tBest parameters:\n",
      "\tNo GridSearch\n",
      "\n",
      "\tAccuracy: 0.40638\tPrecision: 0.10837\tRecall: 0.39550\tF1: 0.17013\tF2: 0.25851\n",
      "\tTotal predictions: 26000\tTrue positives: 1582\tFalse positives: 13016\tFalse negatives: 2418\tTrue negatives: 8984\n",
      "\n",
      "Got a divide by zero when trying out: SVC(C=1.0, cache_size=200, class_weight=None, coef0=0.0,\n",
      "  decision_function_shape=None, degree=3, gamma='auto', kernel='rbf',\n",
      "  max_iter=-1, probability=False, random_state=None, shrinking=True,\n",
      "  tol=0.001, verbose=False)\n",
      "Precision or recall may be undefined due to a lack of true positive predicitons.\n",
      "\n",
      "\n",
      "KNeighborsRegressor(algorithm='auto', leaf_size=30, metric='minkowski',\n",
      "          metric_params=None, n_jobs=1, n_neighbors=3, p=2,\n",
      "          weights='uniform')\n",
      "\n",
      "\tBest parameters:\n",
      "\tNo GridSearch\n",
      "\n",
      "\tAccuracy: 0.85062\tPrecision: 0.53494\tRecall: 0.22200\tF1: 0.31378\tF2: 0.25142\n",
      "\tTotal predictions: 26000\tTrue positives:  888\tFalse positives:  772\tFalse negatives: 3112\tTrue negatives: 21228\n",
      "\n",
      "Got a divide by zero when trying out: LogisticRegression(C=0.1, class_weight=None, dual=False, fit_intercept=True,\n",
      "          intercept_scaling=1, max_iter=15, multi_class='ovr', n_jobs=1,\n",
      "          penalty='l2', random_state=None, solver='newton-cg', tol=0.0001,\n",
      "          verbose=0, warm_start=False)\n",
      "Precision or recall may be undefined due to a lack of true positive predicitons.\n",
      "\n"
     ]
    }
   ],
   "source": [
    "### Caclulating scores between exercised_stock_options and total_stock_value\n",
    "features = ['poi', 'exercised_stock_options', 'total_stock_value']\n",
    "results = classify_advanced(features, classifiers, print_result=True, draw_graph=False)"
   ]
  },
  {
   "cell_type": "code",
   "execution_count": 178,
   "metadata": {
    "collapsed": false
   },
   "outputs": [
    {
     "name": "stdout",
     "output_type": "stream",
     "text": [
      "\n",
      "           Accuracy   Precision     Recall\n",
      "DecisionTree\n",
      "            0.8238      0.3558      0.1795\n",
      "GaussianNB\n",
      "            0.4064      0.1084      0.3955\n",
      "SVM\n",
      "           --------------None--------------\n",
      "KNN\n",
      "            0.8506      0.5349      0.2220\n",
      "Logistic\n",
      "           --------------None--------------\n"
     ]
    }
   ],
   "source": [
    "print_out_result(results)"
   ]
  },
  {
   "cell_type": "markdown",
   "metadata": {},
   "source": [
    "The results are not very good, which means that the pair of exercised_stock_option and total_stock_value doesn't prove very insightful information for identifying POIs.\n",
    "\n",
    "Since the scatter plot looks linear, I decided to find the correlation value between them."
   ]
  },
  {
   "cell_type": "markdown",
   "metadata": {},
   "source": [
    "### Calculating Correlation"
   ]
  },
  {
   "cell_type": "code",
   "execution_count": 179,
   "metadata": {
    "collapsed": false
   },
   "outputs": [
    {
     "data": {
      "text/plain": [
       "array([[ 1.        ,  0.96367812],\n",
       "       [ 0.96367812,  1.        ]])"
      ]
     },
     "execution_count": 179,
     "metadata": {},
     "output_type": "execute_result"
    }
   ],
   "source": [
    "### Getting arrays\n",
    "x_array = data[:, features_list.index('exercised_stock_options')]\n",
    "y_array = data[:, features_list.index('total_stock_value')]\n",
    "\n",
    "### Calculate Correlation\n",
    "np.corrcoef(x_array, y_array)"
   ]
  },
  {
   "cell_type": "markdown",
   "metadata": {},
   "source": [
    "The correlation between the two features is 0.9637 which is very close to 1. So they are very correlated.\n",
    "\n",
    "And I also expect that the regression score between these two features would be very good but I am not going to calculate the number because being correlated cannot be very helpful in terms of classification."
   ]
  },
  {
   "cell_type": "markdown",
   "metadata": {},
   "source": [
    "## More plots"
   ]
  },
  {
   "cell_type": "markdown",
   "metadata": {},
   "source": [
    "I will draw 3 by 3 subplots showing the scatter plots between either bonus, exercised_option_prices or total_stock_value and anything else in the features_list."
   ]
  },
  {
   "cell_type": "code",
   "execution_count": 180,
   "metadata": {
    "collapsed": false
   },
   "outputs": [
    {
     "data": {
      "image/png": "[encoded data removed]",
      "text/plain": [
       "<matplotlib.figure.Figure at 0xe78eac8>"
      ]
     },
     "metadata": {},
     "output_type": "display_data"
    }
   ],
   "source": [
    "%matplotlib inline\n",
    "### 15 histograms for features\n",
    "plt.rcParams[\"figure.figsize\"] = (20,20)\n",
    "f, axarr = plt.subplots(3, 3)\n",
    "\n",
    "### the scatter plots of the data\n",
    "### x: x coordinate values, y: y coordinate values\n",
    "### r: row index, c: column index\n",
    "### title: title of a subplot\n",
    "def subplot_scatter_plot(x, y, r, c):\n",
    "    ### Find index of x and y\n",
    "    x_ind = features_list.index(x)\n",
    "    y_ind = features_list.index(y)\n",
    "    \n",
    "    ### Create arrays for salary and bonus for poi and non-poi\n",
    "    x_poi    = [data[:,x_ind][ii] for ii in range(0, len(data[:,0])) if data[:,poi_ind][ii]]\n",
    "    y_poi    = [data[:,y_ind][ii] for ii in range(0, len(data[:,0])) if data[:,poi_ind][ii]]\n",
    "    x_nonpoi = [data[:,x_ind][ii] for ii in range(0, len(data[:,0])) if not data[:,poi_ind][ii]]\n",
    "    y_nonpoi = [data[:,y_ind][ii] for ii in range(0, len(data[:,0])) if not data[:,poi_ind][ii]]\n",
    "\n",
    "    ### Draw Salary histogram\n",
    "    axarr[r,c].scatter(x_poi,   y_poi,   color=\"r\",label=\"poi\")\n",
    "    axarr[r,c].scatter(x_nonpoi,y_nonpoi,color=\"b\",label=\"non-poi\")\n",
    "    axarr[r,c].set_xlabel(x)\n",
    "    axarr[r,c].set_ylabel(y)\n",
    "    \n",
    "### Setting x coordinate values and y coordinate values\n",
    "x_values = [\"bonus\", \"exercised_stock_options\", \"total_stock_value\"]\n",
    "y_values = [\"salary\", \"long_term_incentive\", \"deferred_income\"]\n",
    "\n",
    "r = 0\n",
    "c = 0\n",
    "for y in y_values:\n",
    "    for x in x_values: \n",
    "        subplot_scatter_plot(x,y,r,c)\n",
    "        c = (c+1) % 3\n",
    "    r += 1\n",
    "\n",
    "plt.show()"
   ]
  },
  {
   "cell_type": "markdown",
   "metadata": {},
   "source": [
    "Red dots are POIs and blue dots are non-POIs. I am not interested in identifying 4 POIs outside of the cluster at the left bottom corner because that can be identified very easily when I set a boundary between the cluster and outliners. What I am interested in is identifying POIs within the cluster. So I need to look for the scatter plot where red dots are close together within the cluster. A good example is a scatter plot between bonus and expense. POIs are close together and the cluster is more dispersed than other scatter plots. Another good example is scatter plot between bonus and long_term_incentive. 6 red dots are very close within the cluster."
   ]
  },
  {
   "cell_type": "markdown",
   "metadata": {},
   "source": [
    "### Creating a new feature"
   ]
  },
  {
   "cell_type": "markdown",
   "metadata": {},
   "source": [
    "Based on the above plots, the blue dots have greater slopes than the red dots in the scatter plot of **exercised_stock_options** and **deferred_income**. I decided to create a new feature by dividing **deferred_income** from **exercised_stock_options** weighted by the sum of the squares of these features to the power of 0.2. I used the power of 0.2 to get a better distribution."
   ]
  },
  {
   "cell_type": "code",
   "execution_count": 181,
   "metadata": {
    "collapsed": false
   },
   "outputs": [
    {
     "name": "stdout",
     "output_type": "stream",
     "text": [
      "0.0\n",
      "0.0\n",
      "Before append: (139L, 7L)\n",
      "Max: 1.37950509098\n",
      "Min: 0.0\n",
      "After append: (139L, 8L)\n",
      "['salary', 'exercised_stock_options', 'bonus', 'total_stock_value', 'long_term_incentive', 'deferred_income', 'poi', 'eso_deferred_income']\n"
     ]
    },
    {
     "name": "stderr",
     "output_type": "stream",
     "text": [
      "C:\\Users\\wlee\\AppData\\Local\\Continuum\\Anaconda2\\lib\\site-packages\\sklearn\\preprocessing\\data.py:324: DeprecationWarning: Passing 1d arrays as data is deprecated in 0.17 and will raise ValueError in 0.19. Reshape your data either using X.reshape(-1, 1) if your data has a single feature or X.reshape(1, -1) if it contains a single sample.\n",
      "  warnings.warn(DEPRECATION_MSG_1D, DeprecationWarning)\n",
      "C:\\Users\\wlee\\AppData\\Local\\Continuum\\Anaconda2\\lib\\site-packages\\sklearn\\preprocessing\\data.py:359: DeprecationWarning: Passing 1d arrays as data is deprecated in 0.17 and will raise ValueError in 0.19. Reshape your data either using X.reshape(-1, 1) if your data has a single feature or X.reshape(1, -1) if it contains a single sample.\n",
      "  warnings.warn(DEPRECATION_MSG_1D, DeprecationWarning)\n",
      "C:\\Users\\wlee\\AppData\\Local\\Continuum\\Anaconda2\\lib\\site-packages\\sklearn\\preprocessing\\data.py:324: DeprecationWarning: Passing 1d arrays as data is deprecated in 0.17 and will raise ValueError in 0.19. Reshape your data either using X.reshape(-1, 1) if your data has a single feature or X.reshape(1, -1) if it contains a single sample.\n",
      "  warnings.warn(DEPRECATION_MSG_1D, DeprecationWarning)\n",
      "C:\\Users\\wlee\\AppData\\Local\\Continuum\\Anaconda2\\lib\\site-packages\\sklearn\\preprocessing\\data.py:359: DeprecationWarning: Passing 1d arrays as data is deprecated in 0.17 and will raise ValueError in 0.19. Reshape your data either using X.reshape(-1, 1) if your data has a single feature or X.reshape(1, -1) if it contains a single sample.\n",
      "  warnings.warn(DEPRECATION_MSG_1D, DeprecationWarning)\n"
     ]
    }
   ],
   "source": [
    "### Rescale each feature\n",
    "from sklearn.preprocessing import MinMaxScaler\n",
    "min_max_scaler = MinMaxScaler()\n",
    "\n",
    "### deferred_income\n",
    "deferred_income = data[:,features_list.index(\"deferred_income\")]\n",
    "deferred_income = min_max_scaler.fit_transform(deferred_income) \n",
    "\n",
    "### exercised_stock_options\n",
    "exercised_stock_options = data[:,features_list.index(\"exercised_stock_options\")]\n",
    "exercised_stock_options = min_max_scaler.fit_transform(exercised_stock_options) \n",
    "\n",
    "print np.min(deferred_income) \n",
    "print np.min(exercised_stock_options) \n",
    "\n",
    "### Creating a new feature - eso_expenses\n",
    "tmp_array = np.empty([len(data[:,0]),1])\n",
    "for i in range(len(data[:,0])):\n",
    "    di = deferred_income[i]\n",
    "    eso = exercised_stock_options[i]\n",
    "    \n",
    "    ### If both values are zero then set it 0\n",
    "    if di * eso == 0:\n",
    "        tmp_array[i,0] = 0\n",
    "    else:\n",
    "        tmp_array[i,0] = np.power(eso / di, .2) * np.power(di*di + eso*eso, .5)\n",
    "#     tmp_array[i,0] = eso / ex * (ex*ex + eso*eso)\n",
    "        \n",
    "### Print out the original size of data\n",
    "print \"Before append:\", data.shape\n",
    "\n",
    "### Find max and min of the new feature\n",
    "new_feature_max = np.max(tmp_array)\n",
    "new_feature_min = np.min(tmp_array)\n",
    "\n",
    "print \"Max:\", new_feature_max\n",
    "print \"Min:\", new_feature_min\n",
    "\n",
    "\n",
    "### Append the new feature column to data numpy array\n",
    "if len(data[0,:]) == 8:\n",
    "    ### To prevent appending a column again when rerunning the code\n",
    "    data = np.delete(data, 7, axis = 1)\n",
    "\n",
    "data = np.append(data, tmp_array, axis= 1)\n",
    "\n",
    "### Print out the size of appended data\n",
    "print \"After append:\", data.shape\n",
    "\n",
    "### Add new feature to features_list\n",
    "if features_list[-1] != \"eso_deferred_income\":\n",
    "    features_list.append(\"eso_deferred_income\")\n",
    "    \n",
    "print features_list"
   ]
  },
  {
   "cell_type": "markdown",
   "metadata": {},
   "source": [
    "The code above appends the new feature to the existing data numpy array. In the code I set the new feature's value equal to 0 when the denominator is zero or the numerator is zero to avoid having *inf* values.\n",
    "\n",
    "Then I scaled the new feature to 0 to 1."
   ]
  },
  {
   "cell_type": "markdown",
   "metadata": {},
   "source": [
    "### Plotting a new feature"
   ]
  },
  {
   "cell_type": "code",
   "execution_count": 182,
   "metadata": {
    "collapsed": false
   },
   "outputs": [
    {
     "data": {
      "image/png": "[encoded data removed]",
      "text/plain": [
       "<matplotlib.figure.Figure at 0xcfb5048>"
      ]
     },
     "metadata": {},
     "output_type": "display_data"
    },
    {
     "data": {
      "image/png": "[encoded data removed]",
      "text/plain": [
       "<matplotlib.figure.Figure at 0xa237550>"
      ]
     },
     "metadata": {},
     "output_type": "display_data"
    }
   ],
   "source": [
    "### Draw eso_expenses histogram\n",
    "plt.rcParams[\"figure.figsize\"] = (10,5)\n",
    "plt.hist(data[:,features_list.index(\"eso_deferred_income\")], bins=50)\n",
    "plt.xlabel(\"eso_deferred_income\")\n",
    "plt.ylabel(\"count\")\n",
    "plt.title(\"eso_deferred_income Histogram\")\n",
    "plt.show()\n",
    "\n",
    "### Scatter plot between bonus and total_stock_value\n",
    "scatter_plotting(\"eso_deferred_income\",\"eso_deferred_income\")"
   ]
  },
  {
   "cell_type": "markdown",
   "metadata": {},
   "source": [
    "The histogram shows that the majority of values of the new features are zeros. The second scatter plot is showing the distribution of the new feature colored by poi and non-poi."
   ]
  },
  {
   "cell_type": "markdown",
   "metadata": {},
   "source": [
    "## Testing the new feature - Decision Tree"
   ]
  },
  {
   "cell_type": "markdown",
   "metadata": {},
   "source": [
    "I will run Decision Tree with this new feature and other features."
   ]
  },
  {
   "cell_type": "code",
   "execution_count": 183,
   "metadata": {
    "collapsed": false
   },
   "outputs": [],
   "source": [
    "### Setting features array and label array\n",
    "data_features_only = np.delete(data, features_list.index(\"poi\"), 1)\n",
    "labels = data[:, features_list.index(\"poi\")]\n",
    "\n",
    "### Take out poi from the features list\n",
    "features_list_wo_poi = [i for i in features_list if i != \"poi\"]\n",
    "\n",
    "### Rescale features\n",
    "min_max_scaler = MinMaxScaler()\n",
    "data_features_only = min_max_scaler.fit_transform(data_features_only) \n",
    "\n",
    "### Set the classifier\n",
    "clf = tree.DecisionTreeClassifier(criterion='gini', splitter='random', min_samples_split=5)\n",
    "\n",
    "### Use Stratified Shuffle Split for cross validation\n",
    "from sklearn.cross_validation import StratifiedShuffleSplit\n",
    "cv = StratifiedShuffleSplit(labels, 1000, random_state = 42)\n",
    "\n",
    "### Format the result\n",
    "PERF_FORMAT_STRING = \"\\\n",
    "\\tAccuracy: {:>0.{display_precision}f}\\tPrecision: {:>0.{display_precision}f}\\t\\\n",
    "Recall: {:>0.{display_precision}f}\\tF1: {:>0.{display_precision}f}\\tF2: {:>0.{display_precision}f}\"\n",
    "RESULTS_FORMAT_STRING = \"\\tTotal predictions: {:4d}\\tTrue positives: {:4d}\\tFalse positives: {:4d}\\\n",
    "\\tFalse negatives: {:4d}\\tTrue negatives: {:4d}\""
   ]
  },
  {
   "cell_type": "markdown",
   "metadata": {},
   "source": [
    "Above codes are setting up what's necessary to run Decision Tree. Major of them are identical to the codes in **tester.py** file.\n",
    "\n",
    "First of all, features and labels arrays are created and rescaled with **MinMaxScaler**.\n",
    "\n",
    "Decision Tree with the best parameters are set up and for the cross validation, I am going to use **StratifiedShuffleSplit**. Since there are only 18 POIs, when using test and train split, the test data most likely would end up having no POIs. So folding the number of data will fix such problem."
   ]
  },
  {
   "cell_type": "code",
   "execution_count": 184,
   "metadata": {
    "collapsed": false
   },
   "outputs": [],
   "source": [
    "### Calculate scores\n",
    "def calculate_with_clf(clf):\n",
    "    other_feature = [i for i in features_list_wo_poi if i != \"eso_deferred_income\"]\n",
    "    for fe in other_feature:    \n",
    "        print \"eso_deferred_income and\", fe\n",
    "        features = data_features_only[:, [features_list_wo_poi.index(\"eso_deferred_income\"), features_list_wo_poi.index(fe)]]\n",
    "\n",
    "        true_negatives = 0\n",
    "        false_negatives = 0\n",
    "        true_positives = 0\n",
    "        false_positives = 0\n",
    "\n",
    "        ### Getting train and test data sets\n",
    "        for train_idx, test_idx in cv: \n",
    "            features_train = []\n",
    "            features_test  = []\n",
    "            labels_train   = []\n",
    "            labels_test    = []\n",
    "            for ii in train_idx:\n",
    "                features_train.append( features[ii] )\n",
    "                labels_train.append( labels[ii] )\n",
    "            for jj in test_idx:\n",
    "                features_test.append( features[jj] )\n",
    "                labels_test.append( labels[jj] )\n",
    "\n",
    "                features_test.append( features[jj])\n",
    "                labels_test.append( labels[jj] ) \n",
    "\n",
    "\n",
    "            ### fit the classifier using training set, and test on test set\n",
    "            clf.fit(features_train, labels_train)\n",
    "            try:\n",
    "                print clf.best_params_\n",
    "                for k,v in clf.best_params_.iteritems():\n",
    "                    if k in best_params_collector:\n",
    "                        best_params_collector[k].append(v)\n",
    "                    else:\n",
    "                        best_params_collector[k] = [v]\n",
    "            except:\n",
    "                pass\n",
    "\n",
    "            predictions = clf.predict(features_test)\n",
    "            for prediction, truth in zip(predictions, labels_test):\n",
    "                ### Assign prediction either 0 or 1\n",
    "                if prediction < .5:\n",
    "                    prediction = 0\n",
    "                else:\n",
    "                    prediction = 1\n",
    "\n",
    "                if prediction == 0 and truth == 0:\n",
    "                    true_negatives += 1\n",
    "                elif prediction == 0 and truth == 1:\n",
    "                    false_negatives += 1\n",
    "                elif prediction == 1 and truth == 0:\n",
    "                    false_positives += 1\n",
    "                elif prediction == 1 and truth == 1:\n",
    "                    true_positives += 1\n",
    "\n",
    "        try:\n",
    "            total_predictions = true_negatives + false_negatives + false_positives + true_positives\n",
    "            accuracy = 1.0*(true_positives + true_negatives)/total_predictions\n",
    "            precision = 1.0*true_positives/(true_positives+false_positives)\n",
    "            recall = 1.0*true_positives/(true_positives+false_negatives)\n",
    "            f1 = 2.0 * true_positives/(2*true_positives + false_positives+false_negatives)\n",
    "            f2 = (1+2.0*2.0) * precision*recall/(4*precision + recall)\n",
    "            print PERF_FORMAT_STRING.format(accuracy, precision, recall, f1, f2, display_precision = 5)\n",
    "            print RESULTS_FORMAT_STRING.format(total_predictions, true_positives, false_positives, false_negatives, true_negatives)\n",
    "            print \"\"\n",
    "\n",
    "        except:\n",
    "            print \"Got a divide by zero when trying out:\", clf\n",
    "            print \"Precision or recall may be undefined due to a lack of true positive predicitons.\\n\""
   ]
  },
  {
   "cell_type": "code",
   "execution_count": 185,
   "metadata": {
    "collapsed": false
   },
   "outputs": [
    {
     "name": "stdout",
     "output_type": "stream",
     "text": [
      "eso_deferred_income and salary\n",
      "\tAccuracy: 0.84114\tPrecision: 0.39706\tRecall: 0.21600\tF1: 0.27979\tF2: 0.23768\n",
      "\tTotal predictions: 28000\tTrue positives:  864\tFalse positives: 1312\tFalse negatives: 3136\tTrue negatives: 22688\n",
      "\n",
      "eso_deferred_income and exercised_stock_options\n",
      "\tAccuracy: 0.86521\tPrecision: 0.59401\tRecall: 0.17850\tF1: 0.27451\tF2: 0.20753\n",
      "\tTotal predictions: 28000\tTrue positives:  714\tFalse positives:  488\tFalse negatives: 3286\tTrue negatives: 23512\n",
      "\n",
      "eso_deferred_income and bonus\n",
      "\tAccuracy: 0.85993\tPrecision: 0.51454\tRecall: 0.34500\tF1: 0.41305\tF2: 0.36934\n",
      "\tTotal predictions: 28000\tTrue positives: 1380\tFalse positives: 1302\tFalse negatives: 2620\tTrue negatives: 22698\n",
      "\n",
      "eso_deferred_income and total_stock_value\n",
      "\tAccuracy: 0.84857\tPrecision: 0.43464\tRecall: 0.19950\tF1: 0.27347\tF2: 0.22370\n",
      "\tTotal predictions: 28000\tTrue positives:  798\tFalse positives: 1038\tFalse negatives: 3202\tTrue negatives: 22962\n",
      "\n",
      "eso_deferred_income and long_term_incentive\n",
      "\tAccuracy: 0.85171\tPrecision: 0.46442\tRecall: 0.24800\tF1: 0.32334\tF2: 0.27349\n",
      "\tTotal predictions: 28000\tTrue positives:  992\tFalse positives: 1144\tFalse negatives: 3008\tTrue negatives: 22856\n",
      "\n",
      "eso_deferred_income and deferred_income\n",
      "\tAccuracy: 0.84193\tPrecision: 0.40148\tRecall: 0.21700\tF1: 0.28173\tF2: 0.23896\n",
      "\tTotal predictions: 28000\tTrue positives:  868\tFalse positives: 1294\tFalse negatives: 3132\tTrue negatives: 22706\n",
      "\n"
     ]
    }
   ],
   "source": [
    "calculate_with_clf(clf)"
   ]
  },
  {
   "cell_type": "markdown",
   "metadata": {},
   "source": [
    "One noticiable result is eso_deferred_income and bonus.\n",
    "\n",
    "**eso_deferred_income and bonus**\n",
    "\n",
    "- Accuracy: ~ 86.1 %\n",
    "- Precision: ~ 52.0 %\n",
    "- Recall: ~ 34.3 %\n",
    "\n",
    "The result is almost similar to the best scores from **bonus** and **exercised_stock_options**."
   ]
  },
  {
   "cell_type": "markdown",
   "metadata": {},
   "source": [
    "## Testing the new feature - KNN"
   ]
  },
  {
   "cell_type": "markdown",
   "metadata": {},
   "source": [
    "This time I will calculate the new feature using **KNN** classifier."
   ]
  },
  {
   "cell_type": "code",
   "execution_count": 186,
   "metadata": {
    "collapsed": false
   },
   "outputs": [],
   "source": [
    "### Set the classifier\n",
    "from sklearn.neighbors import KNeighborsRegressor\n",
    "clf = KNeighborsRegressor(n_neighbors=3, weights='uniform', algorithm='auto')"
   ]
  },
  {
   "cell_type": "markdown",
   "metadata": {},
   "source": [
    "Everything is the same. I just need to update **clf**. I used the best parameters that I got from **GridSearchCV**."
   ]
  },
  {
   "cell_type": "code",
   "execution_count": 187,
   "metadata": {
    "collapsed": false
   },
   "outputs": [
    {
     "name": "stdout",
     "output_type": "stream",
     "text": [
      "eso_deferred_income and salary\n",
      "\tAccuracy: 0.84586\tPrecision: 0.39767\tRecall: 0.15350\tF1: 0.22150\tF2: 0.17499\n",
      "\tTotal predictions: 28000\tTrue positives:  614\tFalse positives:  930\tFalse negatives: 3386\tTrue negatives: 23070\n",
      "\n",
      "eso_deferred_income and exercised_stock_options\n",
      "\tAccuracy: 0.85693\tPrecision: 0.49711\tRecall: 0.12900\tF1: 0.20484\tF2: 0.15143\n",
      "\tTotal predictions: 28000\tTrue positives:  516\tFalse positives:  522\tFalse negatives: 3484\tTrue negatives: 23478\n",
      "\n",
      "eso_deferred_income and bonus\n",
      "\tAccuracy: 0.87950\tPrecision: 0.64834\tRecall: 0.34200\tF1: 0.44779\tF2: 0.37769\n",
      "\tTotal predictions: 28000\tTrue positives: 1368\tFalse positives:  742\tFalse negatives: 2632\tTrue negatives: 23258\n",
      "\n",
      "eso_deferred_income and total_stock_value\n",
      "\tAccuracy: 0.86507\tPrecision: 0.57940\tRecall: 0.20250\tF1: 0.30011\tF2: 0.23279\n",
      "\tTotal predictions: 28000\tTrue positives:  810\tFalse positives:  588\tFalse negatives: 3190\tTrue negatives: 23412\n",
      "\n",
      "eso_deferred_income and long_term_incentive\n",
      "\tAccuracy: 0.84971\tPrecision: 0.44023\tRecall: 0.19150\tF1: 0.26690\tF2: 0.21590\n",
      "\tTotal predictions: 28000\tTrue positives:  766\tFalse positives:  974\tFalse negatives: 3234\tTrue negatives: 23026\n",
      "\n",
      "eso_deferred_income and deferred_income\n",
      "\tAccuracy: 0.85529\tPrecision: 0.48556\tRecall: 0.21850\tF1: 0.30138\tF2: 0.24551\n",
      "\tTotal predictions: 28000\tTrue positives:  874\tFalse positives:  926\tFalse negatives: 3126\tTrue negatives: 23074\n",
      "\n"
     ]
    }
   ],
   "source": [
    "calculate_with_clf(clf)"
   ]
  },
  {
   "cell_type": "markdown",
   "metadata": {},
   "source": [
    "I got very nice result. Look at **eso_deferred_income** and **bonus** again.\n",
    "\n",
    "- Accuracy: ~ 88.0%\n",
    "- Precision: ~ 64.8%\n",
    "- Recall: ~ 34.2%\n",
    "\n",
    "Precision is very high which means if the algorithm says 100 people are POIs then there will be about 65 true POIs and 35 of them won't be POIs. This is the **best** result I got so far."
   ]
  },
  {
   "cell_type": "markdown",
   "metadata": {},
   "source": [
    "# Multivariate Analysis"
   ]
  },
  {
   "cell_type": "markdown",
   "metadata": {},
   "source": [
    "This will be the final round of achieving the highest scores from the data set. So far I conducted a univariate analysis to find the single features having the highest scores and then through the bivariate analysis I found the pair of combinataions showing the best result for accuracy, precision and recall.\n",
    "\n",
    "And I created a new feature based on my observations from the analysis and the new feature showed good scores.\n",
    "\n",
    "I will run **Decision Tree** and **KNN** on these features including the new one and check the scores. I am not 100% certain that the scores will be better than the grades I've seen so far. For example, when you look at the pair of bonus and expense it shows the highest recall but shows very low accuracy and precision.\n",
    "\n",
    "And I will use **GridSearchCV** instead of using the best parameters because the best parameters I chose are based on the bivariate analysis and they won't be suitable for more than 2 features. I will find the best parameters for multivariate."
   ]
  },
  {
   "cell_type": "markdown",
   "metadata": {},
   "source": [
    "## Decision Tree"
   ]
  },
  {
   "cell_type": "markdown",
   "metadata": {},
   "source": [
    "I will set up the function that will calculate the scores with all the features with the chosen clf."
   ]
  },
  {
   "cell_type": "code",
   "execution_count": 188,
   "metadata": {
    "collapsed": false
   },
   "outputs": [],
   "source": [
    "def calculate_all(clf):\n",
    "    features = data_features_only\n",
    "    \n",
    "    best_params_collector = {}\n",
    "    \n",
    "    true_negatives = 0\n",
    "    false_negatives = 0\n",
    "    true_positives = 0\n",
    "    false_positives = 0\n",
    "\n",
    "    ### Getting train and test data sets\n",
    "    for train_idx, test_idx in cv: \n",
    "        features_train = []\n",
    "        features_test  = []\n",
    "        labels_train   = []\n",
    "        labels_test    = []\n",
    "        for ii in train_idx:\n",
    "            features_train.append( features[ii] )\n",
    "            labels_train.append( labels[ii] )\n",
    "        for jj in test_idx:\n",
    "            features_test.append( features[jj] )\n",
    "            labels_test.append( labels[jj] )\n",
    "\n",
    "            features_test.append( features[jj])\n",
    "            labels_test.append( labels[jj] ) \n",
    "\n",
    "\n",
    "        ### fit the classifier using training set, and test on test set\n",
    "        clf.fit(features_train, labels_train)\n",
    "        \n",
    "        try:\n",
    "#             print clf.best_params_\n",
    "            for k,v in clf.best_params_.iteritems():\n",
    "                if k in best_params_collector:\n",
    "                    best_params_collector[k].append(v)\n",
    "                else:\n",
    "                    best_params_collector[k] = [v]\n",
    "        except:\n",
    "            pass\n",
    "\n",
    "        predictions = clf.predict(features_test)\n",
    "        for prediction, truth in zip(predictions, labels_test):\n",
    "            ### Assign prediction either 0 or 1\n",
    "            if prediction < .5:\n",
    "                prediction = 0\n",
    "            else:\n",
    "                prediction = 1\n",
    "\n",
    "            if prediction == 0 and truth == 0:\n",
    "                true_negatives += 1\n",
    "            elif prediction == 0 and truth == 1:\n",
    "                false_negatives += 1\n",
    "            elif prediction == 1 and truth == 0:\n",
    "                false_positives += 1\n",
    "            elif prediction == 1 and truth == 1:\n",
    "                true_positives += 1\n",
    "\n",
    "    try:\n",
    "        total_predictions = true_negatives + false_negatives + false_positives + true_positives\n",
    "        accuracy = 1.0*(true_positives + true_negatives)/total_predictions\n",
    "        precision = 1.0*true_positives/(true_positives+false_positives)\n",
    "        recall = 1.0*true_positives/(true_positives+false_negatives)\n",
    "        f1 = 2.0 * true_positives/(2*true_positives + false_positives+false_negatives)\n",
    "        f2 = (1+2.0*2.0) * precision*recall/(4*precision + recall)\n",
    "        print PERF_FORMAT_STRING.format(accuracy, precision, recall, f1, f2, display_precision = 5)\n",
    "        print RESULTS_FORMAT_STRING.format(total_predictions, true_positives, false_positives, false_negatives, true_negatives)\n",
    "        print \"\"\n",
    "\n",
    "    except:\n",
    "        print \"Got a divide by zero when trying out:\", clf\n",
    "        print \"Precision or recall may be undefined due to a lack of true positive predicitons.\\n\"\n",
    "    \n",
    "    return best_params_collector"
   ]
  },
  {
   "cell_type": "markdown",
   "metadata": {},
   "source": [
    "Now I will use **Decision Tree** as clf."
   ]
  },
  {
   "cell_type": "code",
   "execution_count": 189,
   "metadata": {
    "collapsed": false
   },
   "outputs": [],
   "source": [
    "### Set the classifier\n",
    "\n",
    "clf = tree.DecisionTreeClassifier(criterion='gini', splitter='random', min_samples_split=7)\n",
    "\n",
    "# param_grid = {\n",
    "#     'criterion': ['gini', 'entropy'],\n",
    "#     'splitter' : ['best', 'random'],\n",
    "#     'min_samples_split': range(2,10)\n",
    "#       }\n",
    "# clf = GridSearchCV(tree.DecisionTreeClassifier(), param_grid, scoring='f1')\n",
    "\n",
    "# Result\n",
    "# {2: 115, 3: 111, 4: 121, 5: 132, 6: 144, 7: 129, 8: 149, 9: 99}\n",
    "# {'random': 805, 'best': 195}\n",
    "# {'gini': 542, 'entropy': 458}"
   ]
  },
  {
   "cell_type": "code",
   "execution_count": 190,
   "metadata": {
    "collapsed": false
   },
   "outputs": [
    {
     "name": "stdout",
     "output_type": "stream",
     "text": [
      "\tAccuracy: 0.84221\tPrecision: 0.42768\tRecall: 0.30900\tF1: 0.35878\tF2: 0.32716\n",
      "\tTotal predictions: 28000\tTrue positives: 1236\tFalse positives: 1654\tFalse negatives: 2764\tTrue negatives: 22346\n",
      "\n"
     ]
    }
   ],
   "source": [
    "result = calculate_all(clf)"
   ]
  },
  {
   "cell_type": "markdown",
   "metadata": {},
   "source": [
    "The result is not as good as I expected. The overall scores are lower than the best scores from the bivariate analysis."
   ]
  },
  {
   "cell_type": "markdown",
   "metadata": {},
   "source": [
    "## KNN"
   ]
  },
  {
   "cell_type": "code",
   "execution_count": 191,
   "metadata": {
    "collapsed": false
   },
   "outputs": [],
   "source": [
    "clf = KNeighborsRegressor(n_neighbors=4, weights='uniform', algorithm='auto')\n",
    "\n",
    "# param_grid = {\n",
    "#     'n_neighbors': [1,2,3,4,5,6,7,8,9,10],\n",
    "#     'weights': ['uniform', 'distance'],\n",
    "#     'algorithm': ['auto','ball_tree','kd_tree','brute']\n",
    "# }\n",
    "# clf = GridSearchCV(KNeighborsRegressor(), param_grid, scoring='average_precision') #average_precision\n",
    "\n",
    "# {1: 67, 2: 59, 3: 125, 4: 177, 5: 108, 6: 69, 7: 74, 8: 95, 9: 105, 10: 121}\n",
    "# {'distance': 49, 'uniform': 951}\n",
    "# {'auto': 1000}"
   ]
  },
  {
   "cell_type": "code",
   "execution_count": 192,
   "metadata": {
    "collapsed": false
   },
   "outputs": [
    {
     "name": "stdout",
     "output_type": "stream",
     "text": [
      "\tAccuracy: 0.84843\tPrecision: 0.45393\tRecall: 0.30050\tF1: 0.36161\tF2: 0.32229\n",
      "\tTotal predictions: 28000\tTrue positives: 1202\tFalse positives: 1446\tFalse negatives: 2798\tTrue negatives: 22554\n",
      "\n"
     ]
    }
   ],
   "source": [
    "result = calculate_all(clf)"
   ]
  },
  {
   "cell_type": "markdown",
   "metadata": {},
   "source": [
    "So the result is not as good as the one we saw before. Similar to the result of **Decision Tree**, although the values are not very bad, they are not the best one. This tells us that having more features in the model doesn't necessarily guarantee better scores.\n",
    "\n",
    "I will use **bonus** and **eso_deferred_income** with **KNN** classifier as my final choice of combination for identifying POIs. The accuracy, precision and recall are all above 0.3."
   ]
  },
  {
   "cell_type": "markdown",
   "metadata": {},
   "source": [
    "# Final Thought"
   ]
  },
  {
   "cell_type": "markdown",
   "metadata": {},
   "source": [
    "#### Usage of Evaluation Metrics\n",
    "\n",
    "When evaluating the results, I calculated **Accuracy**, **Precision**, and **Recall**. I didn't put much emphasis on **Accuracy**. **Accuracy** is calculated by summing true positives and true negatives and dividing it by total predictions. Most of the time this value is above **70%**. Due to very small amount of POIs, assuming everything to be non-POI can give us a good **Accuracy**. So this score is not very reliable in deciding the best algorithm.\n",
    "\n",
    "So I focus on using **Precision** and **Recall**. A good **Precision** tells you that when the algorithm identify POI groups from the test set, then most of them will be true POIs. A good **Recall** values tells you that most of the true POIs in the test set will be identified as POIs by the algorithm. I thought that both of these scores are equally important when choosing the best algorithm.\n",
    "\n",
    "#### Discuss validation and its importance.\n",
    "\n",
    "Validation is important when evaluating the algorithms. The most basic validation is Test and Train split with certain percentage. For example, if I use 70% then I take 70% of the data as a train set and 30% of the data as a test set. The algorithm is trained by the 70% of the data and it will be applied to the 30% and the result will be analyzed.\n",
    "\n",
    "Test and Train is just one of many validations. Analyzing the algorithms using validations is very important because if we create an algorithm then we need to know if the algorithm really works before we apply this algorithm to the real world. Using the existing data set we have, we can estimate and predict what would happend if the algorithm is used in the real world. \n",
    "\n",
    "We need to choose the validation properly because sometimes depending on the data set we have, certain types of validations won't work very well. For example, in this project, using Train and Test validation won't provide us a reliable result because when dividing the data set into train and test, with a high probability, the test set won't contain any POIs, due to a small number of POI in the data set.\n",
    "\n",
    "#### Validation Strategy\n",
    "\n",
    "I used **StratifiedShuffleSplit** as a cross validation for this project. I thought this is the best cross validation to be used because it increases the size of the data points randomly and provides the better calculation. Due to small number of POIs in the data set, Test and Train split can cause zero POI in test set very frequently, so it won’t give very good calculation."
   ]
  },
  {
   "cell_type": "markdown",
   "metadata": {},
   "source": [
    "#### Further Note\n",
    "\n",
    "For this final project, I first investigated the overall data set first. I checked the number features in the data set, the number of POIs, and see if there are any features with too many zeros or missing values. Then, I found an outlier and realized that there was “Total” summing all the features in the data set. I got rid of this “Total” and the data showed better plots. \n",
    "\n",
    "\n",
    "** Note: ** \n",
    "*poi_id.py* includes the result with the best scores from my investigation and it can be tested by running *tester.py*.\n",
    "\n",
    " "
   ]
  }
 ],
 "metadata": {
  "celltoolbar": "Raw Cell Format",
  "kernelspec": {
   "display_name": "Python 2",
   "language": "python",
   "name": "python2"
  },
  "language_info": {
   "codemirror_mode": {
    "name": "ipython",
    "version": 2
   },
   "file_extension": ".py",
   "mimetype": "text/x-python",
   "name": "python",
   "nbconvert_exporter": "python",
   "pygments_lexer": "ipython2",
   "version": "2.7.11"
  }
 },
 "nbformat": 4,
 "nbformat_minor": 0
}
